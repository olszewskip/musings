{
 "cells": [
  {
   "cell_type": "markdown",
   "metadata": {},
   "source": [
    "Following the text classification tutorial: https://realpython.com/python-keras-text-classification/?__s=36ducjqths8yvwkmpwbm"
   ]
  },
  {
   "cell_type": "code",
   "execution_count": 2,
   "metadata": {},
   "outputs": [],
   "source": [
    "import pandas as pd\n",
    "from pathlib import Path"
   ]
  },
  {
   "cell_type": "code",
   "execution_count": 3,
   "metadata": {},
   "outputs": [],
   "source": [
    "datafolder = Path(\"data/sentiment labelled sentences\")\n",
    "paths = {'yelp': \"yelp_labelled.txt\",\\\n",
    "         'amazon': \"amazon_cells_labelled.txt\",\\\n",
    "         'imdb': \"imdb_labelled.txt\"}\n",
    "\n",
    "dfs = []\n",
    "for source, path in paths.items():\n",
    "    df = pd.read_csv(datafolder/path, names=['sentence', 'label'], sep='\\t', header=None)\n",
    "    df['source'] = source\n",
    "    dfs.append(df)\n",
    "\n",
    "df_all = pd.concat(dfs)\n",
    "#df_all = df_all.reset_index()\n",
    "#df_all = df_all.drop(columns='index')"
   ]
  },
  {
   "cell_type": "code",
   "execution_count": 4,
   "metadata": {},
   "outputs": [
    {
     "data": {
      "text/html": [
       "<div>\n",
       "<style scoped>\n",
       "    .dataframe tbody tr th:only-of-type {\n",
       "        vertical-align: middle;\n",
       "    }\n",
       "\n",
       "    .dataframe tbody tr th {\n",
       "        vertical-align: top;\n",
       "    }\n",
       "\n",
       "    .dataframe thead th {\n",
       "        text-align: right;\n",
       "    }\n",
       "</style>\n",
       "<table border=\"1\" class=\"dataframe\">\n",
       "  <thead>\n",
       "    <tr style=\"text-align: right;\">\n",
       "      <th></th>\n",
       "      <th>sentence</th>\n",
       "      <th>label</th>\n",
       "      <th>source</th>\n",
       "    </tr>\n",
       "  </thead>\n",
       "  <tbody>\n",
       "    <tr>\n",
       "      <th>999</th>\n",
       "      <td>Then, as if I hadn't wasted enough of my life ...</td>\n",
       "      <td>0</td>\n",
       "      <td>yelp</td>\n",
       "    </tr>\n",
       "    <tr>\n",
       "      <th>0</th>\n",
       "      <td>So there is no way for me to plug it in here i...</td>\n",
       "      <td>0</td>\n",
       "      <td>amazon</td>\n",
       "    </tr>\n",
       "    <tr>\n",
       "      <th>1</th>\n",
       "      <td>Good case, Excellent value.</td>\n",
       "      <td>1</td>\n",
       "      <td>amazon</td>\n",
       "    </tr>\n",
       "    <tr>\n",
       "      <th>2</th>\n",
       "      <td>Great for the jawbone.</td>\n",
       "      <td>1</td>\n",
       "      <td>amazon</td>\n",
       "    </tr>\n",
       "    <tr>\n",
       "      <th>3</th>\n",
       "      <td>Tied to charger for conversations lasting more...</td>\n",
       "      <td>0</td>\n",
       "      <td>amazon</td>\n",
       "    </tr>\n",
       "    <tr>\n",
       "      <th>4</th>\n",
       "      <td>The mic is great.</td>\n",
       "      <td>1</td>\n",
       "      <td>amazon</td>\n",
       "    </tr>\n",
       "    <tr>\n",
       "      <th>5</th>\n",
       "      <td>I have to jiggle the plug to get it to line up...</td>\n",
       "      <td>0</td>\n",
       "      <td>amazon</td>\n",
       "    </tr>\n",
       "    <tr>\n",
       "      <th>6</th>\n",
       "      <td>If you have several dozen or several hundred c...</td>\n",
       "      <td>0</td>\n",
       "      <td>amazon</td>\n",
       "    </tr>\n",
       "    <tr>\n",
       "      <th>7</th>\n",
       "      <td>If you are Razr owner...you must have this!</td>\n",
       "      <td>1</td>\n",
       "      <td>amazon</td>\n",
       "    </tr>\n",
       "    <tr>\n",
       "      <th>8</th>\n",
       "      <td>Needless to say, I wasted my money.</td>\n",
       "      <td>0</td>\n",
       "      <td>amazon</td>\n",
       "    </tr>\n",
       "    <tr>\n",
       "      <th>9</th>\n",
       "      <td>What a waste of money and time!.</td>\n",
       "      <td>0</td>\n",
       "      <td>amazon</td>\n",
       "    </tr>\n",
       "  </tbody>\n",
       "</table>\n",
       "</div>"
      ],
      "text/plain": [
       "                                              sentence  label  source\n",
       "999  Then, as if I hadn't wasted enough of my life ...      0    yelp\n",
       "0    So there is no way for me to plug it in here i...      0  amazon\n",
       "1                          Good case, Excellent value.      1  amazon\n",
       "2                               Great for the jawbone.      1  amazon\n",
       "3    Tied to charger for conversations lasting more...      0  amazon\n",
       "4                                    The mic is great.      1  amazon\n",
       "5    I have to jiggle the plug to get it to line up...      0  amazon\n",
       "6    If you have several dozen or several hundred c...      0  amazon\n",
       "7          If you are Razr owner...you must have this!      1  amazon\n",
       "8                  Needless to say, I wasted my money.      0  amazon\n",
       "9                     What a waste of money and time!.      0  amazon"
      ]
     },
     "execution_count": 4,
     "metadata": {},
     "output_type": "execute_result"
    }
   ],
   "source": [
    "df_all.iloc[999:1010,:]"
   ]
  },
  {
   "cell_type": "code",
   "execution_count": 5,
   "metadata": {},
   "outputs": [],
   "source": [
    "from sklearn.model_selection import train_test_split\n",
    "\n",
    "df_yelp = df_all[df_all.source == 'yelp']\n",
    "\n",
    "sentences = df_yelp.sentence.values\n",
    "y = df_yelp.label.values\n",
    "\n",
    "sentences_train, sentences_test, y_train, y_test = train_test_split(sentences, y, test_size = 0.3, random_state=13) "
   ]
  },
  {
   "cell_type": "code",
   "execution_count": 6,
   "metadata": {},
   "outputs": [],
   "source": [
    "from sklearn.feature_extraction.text import CountVectorizer\n",
    "\n",
    "vectorizer = CountVectorizer()\n",
    "X_train = vectorizer.fit_transform(sentences_train)\n",
    "X_test = vectorizer.transform(sentences_test)"
   ]
  },
  {
   "cell_type": "code",
   "execution_count": 7,
   "metadata": {},
   "outputs": [
    {
     "data": {
      "text/plain": [
       "<700x1616 sparse matrix of type '<class 'numpy.int64'>'\n",
       "\twith 6783 stored elements in Compressed Sparse Row format>"
      ]
     },
     "execution_count": 7,
     "metadata": {},
     "output_type": "execute_result"
    }
   ],
   "source": [
    "X_train"
   ]
  },
  {
   "cell_type": "code",
   "execution_count": 8,
   "metadata": {},
   "outputs": [
    {
     "name": "stderr",
     "output_type": "stream",
     "text": [
      "C:\\Anaconda3\\lib\\site-packages\\sklearn\\linear_model\\logistic.py:433: FutureWarning: Default solver will be changed to 'lbfgs' in 0.22. Specify a solver to silence this warning.\n",
      "  FutureWarning)\n"
     ]
    },
    {
     "data": {
      "text/plain": [
       "LogisticRegression(C=1.0, class_weight=None, dual=False, fit_intercept=True,\n",
       "          intercept_scaling=1, max_iter=100, multi_class='warn',\n",
       "          n_jobs=None, penalty='l2', random_state=None, solver='warn',\n",
       "          tol=0.0001, verbose=0, warm_start=False)"
      ]
     },
     "execution_count": 8,
     "metadata": {},
     "output_type": "execute_result"
    }
   ],
   "source": [
    "from sklearn.linear_model import LogisticRegression\n",
    "\n",
    "clf = LogisticRegression()\n",
    "clf.fit(X_train, y_train)"
   ]
  },
  {
   "cell_type": "code",
   "execution_count": 9,
   "metadata": {},
   "outputs": [
    {
     "data": {
      "text/plain": [
       "0.8066666666666666"
      ]
     },
     "execution_count": 9,
     "metadata": {},
     "output_type": "execute_result"
    }
   ],
   "source": [
    "clf.score(X_test, y_test)"
   ]
  },
  {
   "cell_type": "code",
   "execution_count": 10,
   "metadata": {},
   "outputs": [
    {
     "name": "stdout",
     "output_type": "stream",
     "text": [
      "Accuracy for yelp data: 0.8067\n",
      "Accuracy for amazon data: 0.7867\n",
      "Accuracy for imdb data: 0.7378\n"
     ]
    },
    {
     "name": "stderr",
     "output_type": "stream",
     "text": [
      "C:\\Anaconda3\\lib\\site-packages\\sklearn\\linear_model\\logistic.py:433: FutureWarning: Default solver will be changed to 'lbfgs' in 0.22. Specify a solver to silence this warning.\n",
      "  FutureWarning)\n"
     ]
    }
   ],
   "source": [
    "for source in df_all.source.unique():\n",
    "    df_source = df_all[df_all.source == source]\n",
    "    \n",
    "    sentences = df_source.sentence.values\n",
    "    y = df_source.label.values\n",
    "\n",
    "    sentences_train, sentences_test, y_train, y_test = train_test_split(sentences, y, test_size = 0.3, random_state=13)\n",
    "    \n",
    "    vectorizer = CountVectorizer()\n",
    "    X_train = vectorizer.fit_transform(sentences_train)\n",
    "    X_test = vectorizer.transform(sentences_test)\n",
    "    clf = LogisticRegression()\n",
    "    clf.fit(X_train, y_train)\n",
    "    \n",
    "    print(f'Accuracy for {source} data: {clf.score(X_test, y_test):.4f}')"
   ]
  },
  {
   "cell_type": "code",
   "execution_count": null,
   "metadata": {},
   "outputs": [],
   "source": []
  },
  {
   "cell_type": "code",
   "execution_count": 11,
   "metadata": {},
   "outputs": [
    {
     "name": "stderr",
     "output_type": "stream",
     "text": [
      "Using TensorFlow backend.\n"
     ]
    }
   ],
   "source": [
    "from keras.models import Sequential"
   ]
  },
  {
   "cell_type": "code",
   "execution_count": 12,
   "metadata": {},
   "outputs": [],
   "source": [
    "from keras import layers"
   ]
  },
  {
   "cell_type": "code",
   "execution_count": 14,
   "metadata": {},
   "outputs": [
    {
     "data": {
      "text/plain": [
       "2341"
      ]
     },
     "execution_count": 14,
     "metadata": {},
     "output_type": "execute_result"
    }
   ],
   "source": [
    "input_dim = X_train.shape[1]\n",
    "input_dim"
   ]
  },
  {
   "cell_type": "code",
   "execution_count": 24,
   "metadata": {},
   "outputs": [
    {
     "data": {
      "text/plain": [
       "(523, 2341)"
      ]
     },
     "execution_count": 24,
     "metadata": {},
     "output_type": "execute_result"
    }
   ],
   "source": [
    "X_train.shape"
   ]
  },
  {
   "cell_type": "code",
   "execution_count": 21,
   "metadata": {},
   "outputs": [],
   "source": [
    "model = Sequential()\n",
    "model.add(layers.Dense(10, input_dim=input_dim, activation='relu'))\n",
    "model.add(layers.Dense(1, activation='sigmoid'))"
   ]
  },
  {
   "cell_type": "code",
   "execution_count": 22,
   "metadata": {},
   "outputs": [
    {
     "name": "stdout",
     "output_type": "stream",
     "text": [
      "_________________________________________________________________\n",
      "Layer (type)                 Output Shape              Param #   \n",
      "=================================================================\n",
      "dense_3 (Dense)              (None, 10)                23420     \n",
      "_________________________________________________________________\n",
      "dense_4 (Dense)              (None, 1)                 11        \n",
      "=================================================================\n",
      "Total params: 23,431\n",
      "Trainable params: 23,431\n",
      "Non-trainable params: 0\n",
      "_________________________________________________________________\n"
     ]
    }
   ],
   "source": [
    "model.compile(loss='binary_crossentropy', optimizer='adam', metrics=['accuracy'])\n",
    "model.summary()"
   ]
  },
  {
   "cell_type": "code",
   "execution_count": 25,
   "metadata": {},
   "outputs": [
    {
     "data": {
      "text/plain": [
       "array([1, 0, 1, 1, 0, 0, 1, 1, 0, 1, 1, 1, 0, 1, 1, 1, 1, 0, 1, 1, 1, 0,\n",
       "       0, 1, 0, 1, 0, 1, 1, 1, 0, 1, 1, 0, 0, 0, 0, 0, 1, 0, 1, 0, 1, 0,\n",
       "       1, 1, 1, 0, 0, 1, 0, 1, 0, 1, 1, 1, 0, 0, 1, 1, 1, 1, 0, 1, 0, 0,\n",
       "       1, 0, 0, 0, 1, 0, 0, 1, 1, 1, 1, 1, 1, 1, 1, 1, 1, 0, 0, 0, 1, 0,\n",
       "       1, 1, 0, 1, 1, 1, 1, 1, 0, 0, 0, 0, 0, 0, 0, 1, 1, 1, 0, 1, 1, 1,\n",
       "       1, 1, 1, 1, 1, 1, 0, 1, 0, 0, 1, 1, 1, 0, 1, 0, 1, 0, 0, 1, 0, 1,\n",
       "       0, 1, 1, 1, 0, 1, 1, 0, 0, 1, 0, 1, 0, 1, 0, 1, 1, 0, 0, 0, 0, 1,\n",
       "       1, 0, 1, 1, 1, 1, 0, 1, 1, 1, 1, 0, 1, 1, 1, 0, 1, 0, 0, 0, 0, 1,\n",
       "       0, 1, 0, 1, 1, 0, 0, 1, 0, 0, 0, 0, 0, 0, 0, 1, 1, 0, 0, 0, 1, 1,\n",
       "       0, 1, 1, 0, 0, 0, 0, 1, 0, 0, 1, 1, 0, 1, 1, 0, 0, 1, 0, 1, 1, 0,\n",
       "       0, 0, 1, 0, 0, 1, 1, 0, 0, 0, 1, 0, 0, 0, 0, 0, 1, 0, 0, 0, 0, 0,\n",
       "       1, 0, 1, 0, 0, 1, 0, 1, 0, 0, 0, 1, 0, 0, 0, 1, 1, 1, 0, 1, 0, 0,\n",
       "       1, 1, 1, 0, 0, 1, 1, 0, 1, 0, 0, 0, 1, 1, 1, 0, 1, 0, 0, 0, 0, 0,\n",
       "       0, 0, 1, 1, 0, 1, 0, 0, 0, 0, 0, 1, 0, 0, 0, 1, 1, 1, 1, 0, 0, 1,\n",
       "       1, 1, 0, 1, 0, 1, 1, 1, 0, 1, 1, 0, 1, 1, 0, 1, 1, 1, 1, 1, 0, 0,\n",
       "       1, 1, 1, 0, 1, 1, 0, 1, 0, 1, 1, 1, 0, 0, 1, 1, 1, 0, 1, 1, 0, 1,\n",
       "       1, 0, 1, 1, 1, 1, 1, 0, 1, 1, 0, 0, 1, 0, 0, 1, 0, 0, 0, 1, 0, 1,\n",
       "       0, 1, 0, 1, 0, 0, 1, 1, 1, 0, 1, 0, 0, 1, 0, 1, 0, 0, 1, 1, 0, 1,\n",
       "       0, 1, 0, 1, 1, 1, 0, 1, 0, 1, 1, 1, 0, 1, 0, 0, 0, 1, 1, 1, 0, 0,\n",
       "       1, 1, 0, 1, 1, 0, 1, 1, 1, 0, 0, 1, 0, 1, 0, 0, 0, 1, 0, 1, 1, 1,\n",
       "       0, 0, 1, 1, 0, 0, 0, 0, 1, 1, 1, 0, 0, 0, 1, 1, 0, 0, 0, 0, 0, 1,\n",
       "       1, 0, 1, 1, 1, 0, 0, 1, 0, 0, 0, 0, 0, 0, 1, 1, 0, 0, 1, 0, 1, 0,\n",
       "       1, 1, 0, 1, 1, 1, 1, 1, 0, 0, 1, 0, 0, 1, 1, 1, 1, 1, 0, 0, 0, 0,\n",
       "       0, 0, 1, 0, 0, 1, 1, 0, 1, 0, 0, 0, 0, 0, 0, 0, 0], dtype=int64)"
      ]
     },
     "execution_count": 25,
     "metadata": {},
     "output_type": "execute_result"
    }
   ],
   "source": [
    "y_train"
   ]
  },
  {
   "cell_type": "code",
   "execution_count": 26,
   "metadata": {},
   "outputs": [
    {
     "name": "stdout",
     "output_type": "stream",
     "text": [
      "Train on 523 samples, validate on 225 samples\n",
      "Epoch 1/100\n",
      "523/523 [==============================] - 0s 707us/step - loss: 0.6984 - acc: 0.5258 - val_loss: 0.7033 - val_acc: 0.6089\n",
      "Epoch 2/100\n",
      "523/523 [==============================] - 0s 157us/step - loss: 0.6331 - acc: 0.8241 - val_loss: 0.6722 - val_acc: 0.6667\n",
      "Epoch 3/100\n",
      "523/523 [==============================] - 0s 159us/step - loss: 0.5560 - acc: 0.9331 - val_loss: 0.6341 - val_acc: 0.6933\n",
      "Epoch 4/100\n",
      "523/523 [==============================] - 0s 165us/step - loss: 0.4675 - acc: 0.9465 - val_loss: 0.6033 - val_acc: 0.6978\n",
      "Epoch 5/100\n",
      "523/523 [==============================] - 0s 160us/step - loss: 0.3795 - acc: 0.9637 - val_loss: 0.5794 - val_acc: 0.7156\n",
      "Epoch 6/100\n",
      "523/523 [==============================] - 0s 160us/step - loss: 0.3047 - acc: 0.9809 - val_loss: 0.5599 - val_acc: 0.7333\n",
      "Epoch 7/100\n",
      "523/523 [==============================] - 0s 156us/step - loss: 0.2460 - acc: 0.9847 - val_loss: 0.5455 - val_acc: 0.7200\n",
      "Epoch 8/100\n",
      "523/523 [==============================] - 0s 157us/step - loss: 0.2005 - acc: 0.9904 - val_loss: 0.5421 - val_acc: 0.7422\n",
      "Epoch 9/100\n",
      "523/523 [==============================] - 0s 160us/step - loss: 0.1662 - acc: 0.9962 - val_loss: 0.5459 - val_acc: 0.7200\n",
      "Epoch 10/100\n",
      "523/523 [==============================] - 0s 155us/step - loss: 0.1383 - acc: 0.9962 - val_loss: 0.5340 - val_acc: 0.7156\n",
      "Epoch 11/100\n",
      "523/523 [==============================] - 0s 153us/step - loss: 0.1163 - acc: 0.9981 - val_loss: 0.5371 - val_acc: 0.7156\n",
      "Epoch 12/100\n",
      "523/523 [==============================] - 0s 153us/step - loss: 0.0990 - acc: 0.9981 - val_loss: 0.5303 - val_acc: 0.7244\n",
      "Epoch 13/100\n",
      "523/523 [==============================] - 0s 149us/step - loss: 0.0850 - acc: 1.0000 - val_loss: 0.5450 - val_acc: 0.7200\n",
      "Epoch 14/100\n",
      "523/523 [==============================] - 0s 148us/step - loss: 0.0734 - acc: 1.0000 - val_loss: 0.5546 - val_acc: 0.7200\n",
      "Epoch 15/100\n",
      "523/523 [==============================] - 0s 150us/step - loss: 0.0639 - acc: 1.0000 - val_loss: 0.5539 - val_acc: 0.7244\n",
      "Epoch 16/100\n",
      "523/523 [==============================] - 0s 157us/step - loss: 0.0560 - acc: 1.0000 - val_loss: 0.5596 - val_acc: 0.7289\n",
      "Epoch 17/100\n",
      "523/523 [==============================] - 0s 153us/step - loss: 0.0495 - acc: 1.0000 - val_loss: 0.5698 - val_acc: 0.7244\n",
      "Epoch 18/100\n",
      "523/523 [==============================] - 0s 163us/step - loss: 0.0440 - acc: 1.0000 - val_loss: 0.5731 - val_acc: 0.7333\n",
      "Epoch 19/100\n",
      "523/523 [==============================] - 0s 176us/step - loss: 0.0392 - acc: 1.0000 - val_loss: 0.5824 - val_acc: 0.7333\n",
      "Epoch 20/100\n",
      "523/523 [==============================] - 0s 146us/step - loss: 0.0351 - acc: 1.0000 - val_loss: 0.5908 - val_acc: 0.7333\n",
      "Epoch 21/100\n",
      "523/523 [==============================] - 0s 140us/step - loss: 0.0317 - acc: 1.0000 - val_loss: 0.5983 - val_acc: 0.7289\n",
      "Epoch 22/100\n",
      "523/523 [==============================] - 0s 141us/step - loss: 0.0285 - acc: 1.0000 - val_loss: 0.6082 - val_acc: 0.7333\n",
      "Epoch 23/100\n",
      "523/523 [==============================] - 0s 141us/step - loss: 0.0259 - acc: 1.0000 - val_loss: 0.6144 - val_acc: 0.7333\n",
      "Epoch 24/100\n",
      "523/523 [==============================] - 0s 141us/step - loss: 0.0236 - acc: 1.0000 - val_loss: 0.6205 - val_acc: 0.7422\n",
      "Epoch 25/100\n",
      "523/523 [==============================] - 0s 141us/step - loss: 0.0215 - acc: 1.0000 - val_loss: 0.6383 - val_acc: 0.7333\n",
      "Epoch 26/100\n",
      "523/523 [==============================] - 0s 141us/step - loss: 0.0198 - acc: 1.0000 - val_loss: 0.6395 - val_acc: 0.7378\n",
      "Epoch 27/100\n",
      "523/523 [==============================] - 0s 149us/step - loss: 0.0181 - acc: 1.0000 - val_loss: 0.6470 - val_acc: 0.7422\n",
      "Epoch 28/100\n",
      "523/523 [==============================] - 0s 143us/step - loss: 0.0167 - acc: 1.0000 - val_loss: 0.6565 - val_acc: 0.7422\n",
      "Epoch 29/100\n",
      "523/523 [==============================] - 0s 140us/step - loss: 0.0154 - acc: 1.0000 - val_loss: 0.6585 - val_acc: 0.7467\n",
      "Epoch 30/100\n",
      "523/523 [==============================] - 0s 142us/step - loss: 0.0142 - acc: 1.0000 - val_loss: 0.6650 - val_acc: 0.7511\n",
      "Epoch 31/100\n",
      "523/523 [==============================] - 0s 142us/step - loss: 0.0132 - acc: 1.0000 - val_loss: 0.6711 - val_acc: 0.7511\n",
      "Epoch 32/100\n",
      "523/523 [==============================] - 0s 145us/step - loss: 0.0122 - acc: 1.0000 - val_loss: 0.6744 - val_acc: 0.7556\n",
      "Epoch 33/100\n",
      "523/523 [==============================] - 0s 157us/step - loss: 0.0114 - acc: 1.0000 - val_loss: 0.6795 - val_acc: 0.7511\n",
      "Epoch 34/100\n",
      "523/523 [==============================] - 0s 149us/step - loss: 0.0106 - acc: 1.0000 - val_loss: 0.6847 - val_acc: 0.7511\n",
      "Epoch 35/100\n",
      "523/523 [==============================] - 0s 149us/step - loss: 0.0099 - acc: 1.0000 - val_loss: 0.6884 - val_acc: 0.7556\n",
      "Epoch 36/100\n",
      "523/523 [==============================] - 0s 155us/step - loss: 0.0092 - acc: 1.0000 - val_loss: 0.6944 - val_acc: 0.7511\n",
      "Epoch 37/100\n",
      "523/523 [==============================] - 0s 145us/step - loss: 0.0087 - acc: 1.0000 - val_loss: 0.6964 - val_acc: 0.7511\n",
      "Epoch 38/100\n",
      "523/523 [==============================] - 0s 143us/step - loss: 0.0081 - acc: 1.0000 - val_loss: 0.7025 - val_acc: 0.7511\n",
      "Epoch 39/100\n",
      "523/523 [==============================] - 0s 135us/step - loss: 0.0076 - acc: 1.0000 - val_loss: 0.7066 - val_acc: 0.7556\n",
      "Epoch 40/100\n",
      "523/523 [==============================] - 0s 141us/step - loss: 0.0072 - acc: 1.0000 - val_loss: 0.7101 - val_acc: 0.7600\n",
      "Epoch 41/100\n",
      "523/523 [==============================] - 0s 141us/step - loss: 0.0068 - acc: 1.0000 - val_loss: 0.7150 - val_acc: 0.7600\n",
      "Epoch 42/100\n",
      "523/523 [==============================] - 0s 143us/step - loss: 0.0063 - acc: 1.0000 - val_loss: 0.7181 - val_acc: 0.7556\n",
      "Epoch 43/100\n",
      "523/523 [==============================] - 0s 143us/step - loss: 0.0060 - acc: 1.0000 - val_loss: 0.7208 - val_acc: 0.7600\n",
      "Epoch 44/100\n",
      "523/523 [==============================] - 0s 146us/step - loss: 0.0057 - acc: 1.0000 - val_loss: 0.7269 - val_acc: 0.7556\n",
      "Epoch 45/100\n",
      "523/523 [==============================] - 0s 141us/step - loss: 0.0053 - acc: 1.0000 - val_loss: 0.7307 - val_acc: 0.7556\n",
      "Epoch 46/100\n",
      "523/523 [==============================] - 0s 143us/step - loss: 0.0050 - acc: 1.0000 - val_loss: 0.7345 - val_acc: 0.7556\n",
      "Epoch 47/100\n",
      "523/523 [==============================] - 0s 141us/step - loss: 0.0048 - acc: 1.0000 - val_loss: 0.7385 - val_acc: 0.7556\n",
      "Epoch 48/100\n",
      "523/523 [==============================] - 0s 158us/step - loss: 0.0045 - acc: 1.0000 - val_loss: 0.7447 - val_acc: 0.7600\n",
      "Epoch 49/100\n",
      "523/523 [==============================] - 0s 163us/step - loss: 0.0043 - acc: 1.0000 - val_loss: 0.7480 - val_acc: 0.7600\n",
      "Epoch 50/100\n",
      "523/523 [==============================] - 0s 142us/step - loss: 0.0041 - acc: 1.0000 - val_loss: 0.7505 - val_acc: 0.7600\n",
      "Epoch 51/100\n",
      "523/523 [==============================] - 0s 143us/step - loss: 0.0038 - acc: 1.0000 - val_loss: 0.7556 - val_acc: 0.7600\n",
      "Epoch 52/100\n",
      "523/523 [==============================] - 0s 145us/step - loss: 0.0037 - acc: 1.0000 - val_loss: 0.7590 - val_acc: 0.7644\n",
      "Epoch 53/100\n",
      "523/523 [==============================] - 0s 149us/step - loss: 0.0035 - acc: 1.0000 - val_loss: 0.7616 - val_acc: 0.7644\n",
      "Epoch 54/100\n",
      "523/523 [==============================] - 0s 139us/step - loss: 0.0033 - acc: 1.0000 - val_loss: 0.7662 - val_acc: 0.7644\n",
      "Epoch 55/100\n",
      "523/523 [==============================] - 0s 156us/step - loss: 0.0032 - acc: 1.0000 - val_loss: 0.7686 - val_acc: 0.7644\n",
      "Epoch 56/100\n",
      "523/523 [==============================] - 0s 152us/step - loss: 0.0030 - acc: 1.0000 - val_loss: 0.7720 - val_acc: 0.7644\n",
      "Epoch 57/100\n",
      "523/523 [==============================] - 0s 153us/step - loss: 0.0029 - acc: 1.0000 - val_loss: 0.7759 - val_acc: 0.7689\n",
      "Epoch 58/100\n",
      "523/523 [==============================] - 0s 147us/step - loss: 0.0027 - acc: 1.0000 - val_loss: 0.7786 - val_acc: 0.7644\n",
      "Epoch 59/100\n",
      "523/523 [==============================] - 0s 153us/step - loss: 0.0026 - acc: 1.0000 - val_loss: 0.7834 - val_acc: 0.7689\n",
      "Epoch 60/100\n",
      "523/523 [==============================] - 0s 153us/step - loss: 0.0025 - acc: 1.0000 - val_loss: 0.7858 - val_acc: 0.7689\n"
     ]
    },
    {
     "name": "stdout",
     "output_type": "stream",
     "text": [
      "Epoch 61/100\n",
      "523/523 [==============================] - 0s 152us/step - loss: 0.0024 - acc: 1.0000 - val_loss: 0.7897 - val_acc: 0.7689\n",
      "Epoch 62/100\n",
      "523/523 [==============================] - 0s 155us/step - loss: 0.0023 - acc: 1.0000 - val_loss: 0.7931 - val_acc: 0.7689\n",
      "Epoch 63/100\n",
      "523/523 [==============================] - 0s 155us/step - loss: 0.0022 - acc: 1.0000 - val_loss: 0.7975 - val_acc: 0.7689\n",
      "Epoch 64/100\n",
      "523/523 [==============================] - 0s 163us/step - loss: 0.0021 - acc: 1.0000 - val_loss: 0.8001 - val_acc: 0.7689\n",
      "Epoch 65/100\n",
      "523/523 [==============================] - 0s 159us/step - loss: 0.0020 - acc: 1.0000 - val_loss: 0.8025 - val_acc: 0.7689\n",
      "Epoch 66/100\n",
      "523/523 [==============================] - 0s 172us/step - loss: 0.0019 - acc: 1.0000 - val_loss: 0.8062 - val_acc: 0.7689\n",
      "Epoch 67/100\n",
      "523/523 [==============================] - 0s 157us/step - loss: 0.0018 - acc: 1.0000 - val_loss: 0.8098 - val_acc: 0.7689\n",
      "Epoch 68/100\n",
      "523/523 [==============================] - 0s 159us/step - loss: 0.0017 - acc: 1.0000 - val_loss: 0.8134 - val_acc: 0.7689\n",
      "Epoch 69/100\n",
      "523/523 [==============================] - 0s 147us/step - loss: 0.0017 - acc: 1.0000 - val_loss: 0.8157 - val_acc: 0.7689\n",
      "Epoch 70/100\n",
      "523/523 [==============================] - 0s 145us/step - loss: 0.0016 - acc: 1.0000 - val_loss: 0.8207 - val_acc: 0.7689\n",
      "Epoch 71/100\n",
      "523/523 [==============================] - 0s 151us/step - loss: 0.0015 - acc: 1.0000 - val_loss: 0.8234 - val_acc: 0.7689\n",
      "Epoch 72/100\n",
      "523/523 [==============================] - 0s 157us/step - loss: 0.0015 - acc: 1.0000 - val_loss: 0.8267 - val_acc: 0.7689\n",
      "Epoch 73/100\n",
      "523/523 [==============================] - 0s 143us/step - loss: 0.0014 - acc: 1.0000 - val_loss: 0.8302 - val_acc: 0.7689\n",
      "Epoch 74/100\n",
      "523/523 [==============================] - 0s 144us/step - loss: 0.0014 - acc: 1.0000 - val_loss: 0.8333 - val_acc: 0.7689\n",
      "Epoch 75/100\n",
      "523/523 [==============================] - 0s 153us/step - loss: 0.0013 - acc: 1.0000 - val_loss: 0.8374 - val_acc: 0.7689\n",
      "Epoch 76/100\n",
      "523/523 [==============================] - 0s 143us/step - loss: 0.0013 - acc: 1.0000 - val_loss: 0.8398 - val_acc: 0.7689\n",
      "Epoch 77/100\n",
      "523/523 [==============================] - 0s 139us/step - loss: 0.0012 - acc: 1.0000 - val_loss: 0.8440 - val_acc: 0.7689\n",
      "Epoch 78/100\n",
      "523/523 [==============================] - 0s 141us/step - loss: 0.0012 - acc: 1.0000 - val_loss: 0.8459 - val_acc: 0.7600\n",
      "Epoch 79/100\n",
      "523/523 [==============================] - 0s 146us/step - loss: 0.0011 - acc: 1.0000 - val_loss: 0.8501 - val_acc: 0.7644\n",
      "Epoch 80/100\n",
      "523/523 [==============================] - 0s 145us/step - loss: 0.0011 - acc: 1.0000 - val_loss: 0.8531 - val_acc: 0.7644\n",
      "Epoch 81/100\n",
      "523/523 [==============================] - 0s 137us/step - loss: 0.0010 - acc: 1.0000 - val_loss: 0.8567 - val_acc: 0.7644\n",
      "Epoch 82/100\n",
      "523/523 [==============================] - 0s 150us/step - loss: 9.8791e-04 - acc: 1.0000 - val_loss: 0.8601 - val_acc: 0.7644\n",
      "Epoch 83/100\n",
      "523/523 [==============================] - 0s 143us/step - loss: 9.5177e-04 - acc: 1.0000 - val_loss: 0.8622 - val_acc: 0.7600\n",
      "Epoch 84/100\n",
      "523/523 [==============================] - 0s 151us/step - loss: 9.1539e-04 - acc: 1.0000 - val_loss: 0.8660 - val_acc: 0.7600\n",
      "Epoch 85/100\n",
      "523/523 [==============================] - 0s 145us/step - loss: 8.8165e-04 - acc: 1.0000 - val_loss: 0.8691 - val_acc: 0.7600\n",
      "Epoch 86/100\n",
      "523/523 [==============================] - 0s 142us/step - loss: 8.4748e-04 - acc: 1.0000 - val_loss: 0.8719 - val_acc: 0.7600\n",
      "Epoch 87/100\n",
      "523/523 [==============================] - 0s 143us/step - loss: 8.1821e-04 - acc: 1.0000 - val_loss: 0.8748 - val_acc: 0.7600\n",
      "Epoch 88/100\n",
      "523/523 [==============================] - 0s 141us/step - loss: 7.8505e-04 - acc: 1.0000 - val_loss: 0.8783 - val_acc: 0.7600\n",
      "Epoch 89/100\n",
      "523/523 [==============================] - 0s 141us/step - loss: 7.5807e-04 - acc: 1.0000 - val_loss: 0.8812 - val_acc: 0.7600\n",
      "Epoch 90/100\n",
      "523/523 [==============================] - 0s 116us/step - loss: 7.2968e-04 - acc: 1.0000 - val_loss: 0.8850 - val_acc: 0.7600\n",
      "Epoch 91/100\n",
      "523/523 [==============================] - 0s 140us/step - loss: 7.0627e-04 - acc: 1.0000 - val_loss: 0.8873 - val_acc: 0.7600\n",
      "Epoch 92/100\n",
      "523/523 [==============================] - 0s 138us/step - loss: 6.7860e-04 - acc: 1.0000 - val_loss: 0.8906 - val_acc: 0.7600\n",
      "Epoch 93/100\n",
      "523/523 [==============================] - 0s 141us/step - loss: 6.5555e-04 - acc: 1.0000 - val_loss: 0.8932 - val_acc: 0.7600\n",
      "Epoch 94/100\n",
      "523/523 [==============================] - 0s 145us/step - loss: 6.3071e-04 - acc: 1.0000 - val_loss: 0.8965 - val_acc: 0.7600\n",
      "Epoch 95/100\n",
      "523/523 [==============================] - 0s 143us/step - loss: 6.0916e-04 - acc: 1.0000 - val_loss: 0.8995 - val_acc: 0.7600\n",
      "Epoch 96/100\n",
      "523/523 [==============================] - 0s 140us/step - loss: 5.8740e-04 - acc: 1.0000 - val_loss: 0.9030 - val_acc: 0.7600\n",
      "Epoch 97/100\n",
      "523/523 [==============================] - 0s 141us/step - loss: 5.6659e-04 - acc: 1.0000 - val_loss: 0.9062 - val_acc: 0.7600\n",
      "Epoch 98/100\n",
      "523/523 [==============================] - 0s 147us/step - loss: 5.4693e-04 - acc: 1.0000 - val_loss: 0.9087 - val_acc: 0.7600\n",
      "Epoch 99/100\n",
      "523/523 [==============================] - 0s 149us/step - loss: 5.2836e-04 - acc: 1.0000 - val_loss: 0.9122 - val_acc: 0.7600\n",
      "Epoch 100/100\n",
      "523/523 [==============================] - 0s 145us/step - loss: 5.0914e-04 - acc: 1.0000 - val_loss: 0.9158 - val_acc: 0.7600\n"
     ]
    }
   ],
   "source": [
    "history = model.fit(X_train, y_train, epochs=100, validation_data = (X_test, y_test), batch_size=10)"
   ]
  },
  {
   "cell_type": "code",
   "execution_count": 30,
   "metadata": {},
   "outputs": [
    {
     "name": "stdout",
     "output_type": "stream",
     "text": [
      "225/225 [==============================] - 0s 240us/step\n"
     ]
    }
   ],
   "source": [
    "loss, accuracy = model.evaluate(X_test, y_test)"
   ]
  },
  {
   "cell_type": "code",
   "execution_count": 31,
   "metadata": {},
   "outputs": [
    {
     "name": "stdout",
     "output_type": "stream",
     "text": [
      "Training Accuracy: 0.7600\n"
     ]
    }
   ],
   "source": [
    "print(\"Training Accuracy: {:.4f}\".format(accuracy))"
   ]
  },
  {
   "cell_type": "code",
   "execution_count": 36,
   "metadata": {},
   "outputs": [],
   "source": [
    "import matplotlib.pyplot as plt\n",
    "plt.style.use('ggplot')\n",
    "\n",
    "def plot_history(history):\n",
    "    acc = history.history['acc']\n",
    "    val_acc = history.history['val_acc']\n",
    "    loss = history.history['loss']\n",
    "    val_loss = history.history['val_loss']\n",
    "    x = range(1, len(acc) + 1)\n",
    "\n",
    "    plt.figure(figsize=(12, 5))\n",
    "    plt.subplot(1, 2, 1)\n",
    "    plt.plot(x, acc, 'b', label='Training acc')\n",
    "    plt.plot(x, val_acc, 'r', label='Validation acc')\n",
    "    plt.title('Training and validation accuracy')\n",
    "    plt.legend()\n",
    "    plt.subplot(1, 2, 2)\n",
    "    plt.plot(x, loss, 'b', label='Training loss')\n",
    "    plt.plot(x, val_loss, 'r', label='Validation loss')\n",
    "    plt.title('Training and validation loss')\n",
    "    plt.legend()"
   ]
  },
  {
   "cell_type": "code",
   "execution_count": 37,
   "metadata": {},
   "outputs": [
    {
     "data": {
      "image/png": "[encoded data removed]",
      "text/plain": [
       "<matplotlib.figure.Figure at 0x1b6b218e2e8>"
      ]
     },
     "metadata": {},
     "output_type": "display_data"
    }
   ],
   "source": [
    "plot_history(history)"
   ]
  },
  {
   "cell_type": "code",
   "execution_count": 39,
   "metadata": {},
   "outputs": [],
   "source": [
    "from keras.preprocessing.text import Tokenizer\n",
    "tokenizer = Tokenizer(num_words=5000)"
   ]
  },
  {
   "cell_type": "code",
   "execution_count": 42,
   "metadata": {},
   "outputs": [
    {
     "data": {
      "text/plain": [
       "array(['It rocked my world and is certainly a must see for anyone with no social or physical outlets.  ',\n",
       "       \"The most annoying thing about 'Cover Girl' is the way in which Rita Hayworth is put up on a pedestal.  \",\n",
       "       'There still are good actors around!  '], dtype=object)"
      ]
     },
     "execution_count": 42,
     "metadata": {},
     "output_type": "execute_result"
    }
   ],
   "source": [
    "sentences_train[:3]"
   ]
  },
  {
   "cell_type": "code",
   "execution_count": 40,
   "metadata": {},
   "outputs": [],
   "source": [
    "tokenizer.fit_on_texts(sentences_train)"
   ]
  },
  {
   "cell_type": "code",
   "execution_count": 48,
   "metadata": {},
   "outputs": [
    {
     "data": {
      "text/plain": [
       "[[7, 872, 54, 296, 3, 5, 178, 2, 363, 55, 16, 128, 20, 60, 873, 43, 874, 875],\n",
       " [1,\n",
       "  64,\n",
       "  297,\n",
       "  156,\n",
       "  36,\n",
       "  515,\n",
       "  516,\n",
       "  5,\n",
       "  1,\n",
       "  108,\n",
       "  10,\n",
       "  93,\n",
       "  876,\n",
       "  877,\n",
       "  5,\n",
       "  298,\n",
       "  99,\n",
       "  21,\n",
       "  2,\n",
       "  878],\n",
       " [39, 109, 23, 31, 157, 204]]"
      ]
     },
     "execution_count": 48,
     "metadata": {},
     "output_type": "execute_result"
    }
   ],
   "source": [
    "X_train = tokenizer.texts_to_sequences(sentences_train)\n",
    "X_test = tokenizer.texts_to_sequences(sentences_test)\n",
    "X_train[:3]"
   ]
  },
  {
   "cell_type": "code",
   "execution_count": 52,
   "metadata": {},
   "outputs": [],
   "source": [
    "vocab_size = len(tokenizer.word_index) + 1"
   ]
  },
  {
   "cell_type": "code",
   "execution_count": 54,
   "metadata": {},
   "outputs": [
    {
     "name": "stdout",
     "output_type": "stream",
     "text": [
      "There still are good actors around!  \n"
     ]
    },
    {
     "data": {
      "text/plain": [
       "[39, 109, 23, 31, 157, 204]"
      ]
     },
     "execution_count": 54,
     "metadata": {},
     "output_type": "execute_result"
    }
   ],
   "source": [
    "print(sentences_train[2])\n",
    "X_train[2]"
   ]
  },
  {
   "cell_type": "code",
   "execution_count": 57,
   "metadata": {},
   "outputs": [
    {
     "data": {
      "text/plain": [
       "204"
      ]
     },
     "execution_count": 57,
     "metadata": {},
     "output_type": "execute_result"
    }
   ],
   "source": [
    "tokenizer.word_index['around']"
   ]
  },
  {
   "cell_type": "code",
   "execution_count": 58,
   "metadata": {},
   "outputs": [],
   "source": [
    "from keras.preprocessing.sequence import pad_sequences"
   ]
  },
  {
   "cell_type": "code",
   "execution_count": 59,
   "metadata": {},
   "outputs": [],
   "source": [
    "maxlen = 100"
   ]
  },
  {
   "cell_type": "code",
   "execution_count": 61,
   "metadata": {},
   "outputs": [],
   "source": [
    "X_train = pad_sequences(X_train, padding='post', maxlen=maxlen)\n",
    "X_test = pad_sequences(X_test, padding='post', maxlen=maxlen)"
   ]
  },
  {
   "cell_type": "code",
   "execution_count": 62,
   "metadata": {},
   "outputs": [
    {
     "data": {
      "text/plain": [
       "array([ 39, 109,  23,  31, 157, 204,   0,   0,   0,   0,   0,   0,   0,\n",
       "         0,   0,   0,   0,   0,   0,   0,   0,   0,   0,   0,   0,   0,\n",
       "         0,   0,   0,   0,   0,   0,   0,   0,   0,   0,   0,   0,   0,\n",
       "         0,   0,   0,   0,   0,   0,   0,   0,   0,   0,   0,   0,   0,\n",
       "         0,   0,   0,   0,   0,   0,   0,   0,   0,   0,   0,   0,   0,\n",
       "         0,   0,   0,   0,   0,   0,   0,   0,   0,   0,   0,   0,   0,\n",
       "         0,   0,   0,   0,   0,   0,   0,   0,   0,   0,   0,   0,   0,\n",
       "         0,   0,   0,   0,   0,   0,   0,   0,   0])"
      ]
     },
     "execution_count": 62,
     "metadata": {},
     "output_type": "execute_result"
    }
   ],
   "source": [
    "X_train[2]"
   ]
  },
  {
   "cell_type": "code",
   "execution_count": 63,
   "metadata": {},
   "outputs": [],
   "source": [
    "from keras.models import Sequential\n",
    "from keras import layers\n",
    "\n",
    "embedding_dim = 50"
   ]
  },
  {
   "cell_type": "code",
   "execution_count": 64,
   "metadata": {},
   "outputs": [],
   "source": [
    "model = Sequential()\n",
    "model.add(layers.Embedding(input_dim=vocab_size, \n",
    "                           output_dim=embedding_dim, \n",
    "                           input_length=maxlen))"
   ]
  },
  {
   "cell_type": "code",
   "execution_count": 65,
   "metadata": {},
   "outputs": [],
   "source": [
    "model.add(layers.Flatten())\n",
    "model.add(layers.Dense(10, activation='relu'))\n",
    "model.add(layers.Dense(1, activation='sigmoid'))\n",
    "model.compile(optimizer='adam',\n",
    "              loss='binary_crossentropy',\n",
    "              metrics=['accuracy'])"
   ]
  },
  {
   "cell_type": "code",
   "execution_count": 66,
   "metadata": {},
   "outputs": [
    {
     "name": "stdout",
     "output_type": "stream",
     "text": [
      "_________________________________________________________________\n",
      "Layer (type)                 Output Shape              Param #   \n",
      "=================================================================\n",
      "embedding_1 (Embedding)      (None, 100, 50)           120500    \n",
      "_________________________________________________________________\n",
      "flatten_1 (Flatten)          (None, 5000)              0         \n",
      "_________________________________________________________________\n",
      "dense_5 (Dense)              (None, 10)                50010     \n",
      "_________________________________________________________________\n",
      "dense_6 (Dense)              (None, 1)                 11        \n",
      "=================================================================\n",
      "Total params: 170,521\n",
      "Trainable params: 170,521\n",
      "Non-trainable params: 0\n",
      "_________________________________________________________________\n"
     ]
    }
   ],
   "source": [
    "model.summary()"
   ]
  },
  {
   "cell_type": "code",
   "execution_count": 69,
   "metadata": {},
   "outputs": [
    {
     "name": "stdout",
     "output_type": "stream",
     "text": [
      "Train on 523 samples, validate on 225 samples\n",
      "Epoch 1/20\n",
      "523/523 [==============================] - 0s 730us/step - loss: 0.6971 - acc: 0.4952 - val_loss: 0.6881 - val_acc: 0.5467\n",
      "Epoch 2/20\n",
      "523/523 [==============================] - 0s 200us/step - loss: 0.6533 - acc: 0.7438 - val_loss: 0.6783 - val_acc: 0.5778\n",
      "Epoch 3/20\n",
      "523/523 [==============================] - 0s 215us/step - loss: 0.5203 - acc: 0.8872 - val_loss: 0.6483 - val_acc: 0.6178\n",
      "Epoch 4/20\n",
      "523/523 [==============================] - 0s 200us/step - loss: 0.2957 - acc: 0.9541 - val_loss: 0.6196 - val_acc: 0.6533\n",
      "Epoch 5/20\n",
      "523/523 [==============================] - 0s 192us/step - loss: 0.1366 - acc: 0.9904 - val_loss: 0.6171 - val_acc: 0.6578\n",
      "Epoch 6/20\n",
      "523/523 [==============================] - 0s 222us/step - loss: 0.0711 - acc: 0.9962 - val_loss: 0.6787 - val_acc: 0.6267\n",
      "Epoch 7/20\n",
      "523/523 [==============================] - 0s 192us/step - loss: 0.0373 - acc: 1.0000 - val_loss: 0.6555 - val_acc: 0.6489\n",
      "Epoch 8/20\n",
      "523/523 [==============================] - 0s 190us/step - loss: 0.0252 - acc: 1.0000 - val_loss: 0.6914 - val_acc: 0.6489\n",
      "Epoch 9/20\n",
      "523/523 [==============================] - 0s 207us/step - loss: 0.0178 - acc: 1.0000 - val_loss: 0.6991 - val_acc: 0.6578\n",
      "Epoch 10/20\n",
      "523/523 [==============================] - 0s 217us/step - loss: 0.0118 - acc: 1.0000 - val_loss: 0.6952 - val_acc: 0.6356\n",
      "Epoch 11/20\n",
      "523/523 [==============================] - 0s 203us/step - loss: 0.0090 - acc: 1.0000 - val_loss: 0.7080 - val_acc: 0.6400\n",
      "Epoch 12/20\n",
      "523/523 [==============================] - 0s 203us/step - loss: 0.0069 - acc: 1.0000 - val_loss: 0.7210 - val_acc: 0.6400\n",
      "Epoch 13/20\n",
      "523/523 [==============================] - 0s 189us/step - loss: 0.0054 - acc: 1.0000 - val_loss: 0.7316 - val_acc: 0.6444\n",
      "Epoch 14/20\n",
      "523/523 [==============================] - 0s 220us/step - loss: 0.0044 - acc: 1.0000 - val_loss: 0.7525 - val_acc: 0.6400\n",
      "Epoch 15/20\n",
      "523/523 [==============================] - 0s 224us/step - loss: 0.0036 - acc: 1.0000 - val_loss: 0.7515 - val_acc: 0.6489\n",
      "Epoch 16/20\n",
      "523/523 [==============================] - 0s 220us/step - loss: 0.0032 - acc: 1.0000 - val_loss: 0.7606 - val_acc: 0.6489\n",
      "Epoch 17/20\n",
      "523/523 [==============================] - 0s 211us/step - loss: 0.0027 - acc: 1.0000 - val_loss: 0.7753 - val_acc: 0.6356\n",
      "Epoch 18/20\n",
      "523/523 [==============================] - 0s 195us/step - loss: 0.0023 - acc: 1.0000 - val_loss: 0.7833 - val_acc: 0.6444\n",
      "Epoch 19/20\n",
      "523/523 [==============================] - 0s 204us/step - loss: 0.0020 - acc: 1.0000 - val_loss: 0.7877 - val_acc: 0.6489\n",
      "Epoch 20/20\n",
      "523/523 [==============================] - 0s 209us/step - loss: 0.0017 - acc: 1.0000 - val_loss: 0.7983 - val_acc: 0.6400\n"
     ]
    }
   ],
   "source": [
    "history = model.fit(X_train, y_train,\n",
    "                    epochs=20,\n",
    "                    validation_data=(X_test, y_test),\n",
    "                    batch_size=10)"
   ]
  },
  {
   "cell_type": "code",
   "execution_count": 70,
   "metadata": {},
   "outputs": [
    {
     "name": "stdout",
     "output_type": "stream",
     "text": [
      "Training Accuracy: 1.0000\n",
      "Testing Accuracy:  0.6400\n"
     ]
    },
    {
     "data": {
      "image/png": "[encoded data removed]",
      "text/plain": [
       "<matplotlib.figure.Figure at 0x1b6b30e2320>"
      ]
     },
     "metadata": {},
     "output_type": "display_data"
    }
   ],
   "source": [
    "loss, accuracy = model.evaluate(X_train, y_train, verbose=False)\n",
    "print(\"Training Accuracy: {:.4f}\".format(accuracy))\n",
    "loss, accuracy = model.evaluate(X_test, y_test, verbose=False)\n",
    "print(\"Testing Accuracy:  {:.4f}\".format(accuracy))\n",
    "plot_history(history)"
   ]
  },
  {
   "cell_type": "code",
   "execution_count": 71,
   "metadata": {},
   "outputs": [
    {
     "name": "stdout",
     "output_type": "stream",
     "text": [
      "_________________________________________________________________\n",
      "Layer (type)                 Output Shape              Param #   \n",
      "=================================================================\n",
      "embedding_2 (Embedding)      (None, 100, 50)           120500    \n",
      "_________________________________________________________________\n",
      "global_max_pooling1d_1 (Glob (None, 50)                0         \n",
      "_________________________________________________________________\n",
      "dense_7 (Dense)              (None, 10)                510       \n",
      "_________________________________________________________________\n",
      "dense_8 (Dense)              (None, 1)                 11        \n",
      "=================================================================\n",
      "Total params: 121,021\n",
      "Trainable params: 121,021\n",
      "Non-trainable params: 0\n",
      "_________________________________________________________________\n"
     ]
    }
   ],
   "source": [
    "model = Sequential()\n",
    "model.add(layers.Embedding(input_dim=vocab_size, \n",
    "                           output_dim=embedding_dim, \n",
    "                           input_length=maxlen))\n",
    "model.add(layers.GlobalMaxPool1D())\n",
    "model.add(layers.Dense(10, activation='relu'))\n",
    "model.add(layers.Dense(1, activation='sigmoid'))\n",
    "model.compile(optimizer='adam',\n",
    "              loss='binary_crossentropy',\n",
    "              metrics=['accuracy'])\n",
    "model.summary()"
   ]
  },
  {
   "cell_type": "code",
   "execution_count": 72,
   "metadata": {},
   "outputs": [
    {
     "name": "stdout",
     "output_type": "stream",
     "text": [
      "Training Accuracy: 1.0000\n",
      "Testing Accuracy:  0.7467\n"
     ]
    },
    {
     "data": {
      "image/png": "[encoded data removed]",
      "text/plain": [
       "<matplotlib.figure.Figure at 0x1b6b30c9f60>"
      ]
     },
     "metadata": {},
     "output_type": "display_data"
    }
   ],
   "source": [
    "history = model.fit(X_train, y_train,\n",
    "                    epochs=50,\n",
    "                    verbose=False,\n",
    "                    validation_data=(X_test, y_test),\n",
    "                    batch_size=10)\n",
    "loss, accuracy = model.evaluate(X_train, y_train, verbose=False)\n",
    "print(\"Training Accuracy: {:.4f}\".format(accuracy))\n",
    "loss, accuracy = model.evaluate(X_test, y_test, verbose=False)\n",
    "print(\"Testing Accuracy:  {:.4f}\".format(accuracy))\n",
    "plot_history(history)"
   ]
  },
  {
   "cell_type": "code",
   "execution_count": 75,
   "metadata": {},
   "outputs": [],
   "source": [
    "import numpy as np\n",
    "\n",
    "def create_embedding_matrix(filepath, word_index, embedding_dim):\n",
    "    vocab_size = len(word_index) + 1  # Adding again 1 because of reserved 0 index\n",
    "    embedding_matrix = np.zeros((vocab_size, embedding_dim))\n",
    "\n",
    "    with open(filepath, encoding='utf-8') as f:\n",
    "        for line in f:\n",
    "            word, *vector = line.split()\n",
    "            if word in word_index:\n",
    "                idx = word_index[word] \n",
    "                embedding_matrix[idx] = np.array(\n",
    "                    vector, dtype=np.float32)[:embedding_dim]\n",
    "\n",
    "    return embedding_matrix"
   ]
  },
  {
   "cell_type": "code",
   "execution_count": 76,
   "metadata": {},
   "outputs": [],
   "source": [
    "embedding_dim = 50\n",
    "embedding_matrix = create_embedding_matrix('glove.6B/glove.6B.50d.txt', tokenizer.word_index, embedding_dim)"
   ]
  },
  {
   "cell_type": "code",
   "execution_count": 79,
   "metadata": {},
   "outputs": [
    {
     "data": {
      "text/plain": [
       "0.9489626556016597"
      ]
     },
     "execution_count": 79,
     "metadata": {},
     "output_type": "execute_result"
    }
   ],
   "source": [
    "np.count_nonzero(np.count_nonzero(embedding_matrix, axis=1)) / vocab_size"
   ]
  },
  {
   "cell_type": "code",
   "execution_count": 80,
   "metadata": {},
   "outputs": [
    {
     "name": "stdout",
     "output_type": "stream",
     "text": [
      "_________________________________________________________________\n",
      "Layer (type)                 Output Shape              Param #   \n",
      "=================================================================\n",
      "embedding_3 (Embedding)      (None, 100, 50)           120500    \n",
      "_________________________________________________________________\n",
      "global_max_pooling1d_2 (Glob (None, 50)                0         \n",
      "_________________________________________________________________\n",
      "dense_9 (Dense)              (None, 10)                510       \n",
      "_________________________________________________________________\n",
      "dense_10 (Dense)             (None, 1)                 11        \n",
      "=================================================================\n",
      "Total params: 121,021\n",
      "Trainable params: 521\n",
      "Non-trainable params: 120,500\n",
      "_________________________________________________________________\n"
     ]
    }
   ],
   "source": [
    "model = Sequential()\n",
    "model.add(layers.Embedding(vocab_size, embedding_dim, \n",
    "                           weights=[embedding_matrix], \n",
    "                           input_length=maxlen, \n",
    "                           trainable=False))\n",
    "model.add(layers.GlobalMaxPool1D())\n",
    "model.add(layers.Dense(10, activation='relu'))\n",
    "model.add(layers.Dense(1, activation='sigmoid'))\n",
    "model.compile(optimizer='adam',\n",
    "              loss='binary_crossentropy',\n",
    "              metrics=['accuracy'])\n",
    "model.summary()"
   ]
  },
  {
   "cell_type": "code",
   "execution_count": 81,
   "metadata": {},
   "outputs": [
    {
     "name": "stdout",
     "output_type": "stream",
     "text": [
      "Training Accuracy: 0.7591\n",
      "Testing Accuracy:  0.7244\n"
     ]
    },
    {
     "data": {
      "image/png": "[encoded data removed]",
      "text/plain": [
       "<matplotlib.figure.Figure at 0x1b6b47f1a90>"
      ]
     },
     "metadata": {},
     "output_type": "display_data"
    }
   ],
   "source": [
    "history = model.fit(X_train, y_train,\n",
    "                    epochs=50,\n",
    "                    verbose=False,\n",
    "                    validation_data=(X_test, y_test),\n",
    "                    batch_size=10)\n",
    "loss, accuracy = model.evaluate(X_train, y_train, verbose=False)\n",
    "print(\"Training Accuracy: {:.4f}\".format(accuracy))\n",
    "loss, accuracy = model.evaluate(X_test, y_test, verbose=False)\n",
    "print(\"Testing Accuracy:  {:.4f}\".format(accuracy))\n",
    "plot_history(history)"
   ]
  },
  {
   "cell_type": "code",
   "execution_count": 82,
   "metadata": {},
   "outputs": [
    {
     "name": "stdout",
     "output_type": "stream",
     "text": [
      "_________________________________________________________________\n",
      "Layer (type)                 Output Shape              Param #   \n",
      "=================================================================\n",
      "embedding_4 (Embedding)      (None, 100, 50)           120500    \n",
      "_________________________________________________________________\n",
      "global_max_pooling1d_3 (Glob (None, 50)                0         \n",
      "_________________________________________________________________\n",
      "dense_11 (Dense)             (None, 10)                510       \n",
      "_________________________________________________________________\n",
      "dense_12 (Dense)             (None, 1)                 11        \n",
      "=================================================================\n",
      "Total params: 121,021\n",
      "Trainable params: 121,021\n",
      "Non-trainable params: 0\n",
      "_________________________________________________________________\n"
     ]
    }
   ],
   "source": [
    "model = Sequential()\n",
    "model.add(layers.Embedding(vocab_size, embedding_dim, \n",
    "                           weights=[embedding_matrix], \n",
    "                           input_length=maxlen, \n",
    "                           trainable=True))\n",
    "model.add(layers.GlobalMaxPool1D())\n",
    "model.add(layers.Dense(10, activation='relu'))\n",
    "model.add(layers.Dense(1, activation='sigmoid'))\n",
    "model.compile(optimizer='adam',\n",
    "              loss='binary_crossentropy',\n",
    "              metrics=['accuracy'])\n",
    "model.summary()"
   ]
  },
  {
   "cell_type": "code",
   "execution_count": 83,
   "metadata": {},
   "outputs": [
    {
     "name": "stdout",
     "output_type": "stream",
     "text": [
      "Training Accuracy: 1.0000\n",
      "Testing Accuracy:  0.7422\n"
     ]
    },
    {
     "data": {
      "image/png": "[encoded data removed]",
      "text/plain": [
       "<matplotlib.figure.Figure at 0x1b6b5d578d0>"
      ]
     },
     "metadata": {},
     "output_type": "display_data"
    }
   ],
   "source": [
    "history = model.fit(X_train, y_train,\n",
    "                    epochs=50,\n",
    "                    verbose=False,\n",
    "                    validation_data=(X_test, y_test),\n",
    "                    batch_size=10)\n",
    "loss, accuracy = model.evaluate(X_train, y_train, verbose=False)\n",
    "print(\"Training Accuracy: {:.4f}\".format(accuracy))\n",
    "loss, accuracy = model.evaluate(X_test, y_test, verbose=False)\n",
    "print(\"Testing Accuracy:  {:.4f}\".format(accuracy))\n",
    "plot_history(history)"
   ]
  },
  {
   "cell_type": "code",
   "execution_count": null,
   "metadata": {},
   "outputs": [],
   "source": []
  },
  {
   "cell_type": "code",
   "execution_count": 84,
   "metadata": {},
   "outputs": [
    {
     "name": "stdout",
     "output_type": "stream",
     "text": [
      "_________________________________________________________________\n",
      "Layer (type)                 Output Shape              Param #   \n",
      "=================================================================\n",
      "embedding_5 (Embedding)      (None, 100, 100)          241000    \n",
      "_________________________________________________________________\n",
      "conv1d_1 (Conv1D)            (None, 96, 128)           64128     \n",
      "_________________________________________________________________\n",
      "global_max_pooling1d_4 (Glob (None, 128)               0         \n",
      "_________________________________________________________________\n",
      "dense_13 (Dense)             (None, 10)                1290      \n",
      "_________________________________________________________________\n",
      "dense_14 (Dense)             (None, 1)                 11        \n",
      "=================================================================\n",
      "Total params: 306,429\n",
      "Trainable params: 306,429\n",
      "Non-trainable params: 0\n",
      "_________________________________________________________________\n"
     ]
    }
   ],
   "source": [
    "embedding_dim = 100\n",
    "\n",
    "model = Sequential()\n",
    "model.add(layers.Embedding(vocab_size, embedding_dim, input_length=maxlen))\n",
    "model.add(layers.Conv1D(128, 5, activation='relu'))\n",
    "model.add(layers.GlobalMaxPooling1D())\n",
    "model.add(layers.Dense(10, activation='relu'))\n",
    "model.add(layers.Dense(1, activation='sigmoid'))\n",
    "model.compile(optimizer='adam',\n",
    "              loss='binary_crossentropy',\n",
    "              metrics=['accuracy'])\n",
    "model.summary()"
   ]
  },
  {
   "cell_type": "code",
   "execution_count": 85,
   "metadata": {},
   "outputs": [
    {
     "name": "stdout",
     "output_type": "stream",
     "text": [
      "Training Accuracy: 1.0000\n",
      "Testing Accuracy:  0.7378\n"
     ]
    },
    {
     "data": {
      "image/png": "[encoded data removed]",
      "text/plain": [
       "<matplotlib.figure.Figure at 0x1b6b30c9400>"
      ]
     },
     "metadata": {},
     "output_type": "display_data"
    }
   ],
   "source": [
    "history = model.fit(X_train, y_train,\n",
    "                    epochs=10,\n",
    "                    verbose=False,\n",
    "                    validation_data=(X_test, y_test),\n",
    "                    batch_size=10)\n",
    "loss, accuracy = model.evaluate(X_train, y_train, verbose=False)\n",
    "print(\"Training Accuracy: {:.4f}\".format(accuracy))\n",
    "loss, accuracy = model.evaluate(X_test, y_test, verbose=False)\n",
    "print(\"Testing Accuracy:  {:.4f}\".format(accuracy))\n",
    "plot_history(history)"
   ]
  },
  {
   "cell_type": "code",
   "execution_count": 90,
   "metadata": {},
   "outputs": [
    {
     "data": {
      "text/plain": [
       "array(['imdb'], dtype=object)"
      ]
     },
     "execution_count": 90,
     "metadata": {},
     "output_type": "execute_result"
    }
   ],
   "source": [
    "df.source.unique()"
   ]
  },
  {
   "cell_type": "code",
   "execution_count": null,
   "metadata": {},
   "outputs": [],
   "source": []
  }
 ],
 "metadata": {
  "kernelspec": {
   "display_name": "Python 3",
   "language": "python",
   "name": "python3"
  },
  "language_info": {
   "codemirror_mode": {
    "name": "ipython",
    "version": 3
   },
   "file_extension": ".py",
   "mimetype": "text/x-python",
   "name": "python",
   "nbconvert_exporter": "python",
   "pygments_lexer": "ipython3",
   "version": "3.6.7"
  }
 },
 "nbformat": 4,
 "nbformat_minor": 2
}
