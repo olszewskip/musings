{
 "cells": [
  {
   "cell_type": "markdown",
   "metadata": {},
   "source": [
    "## Leak-tight pipelines in *sklearn*"
   ]
  },
  {
   "cell_type": "code",
   "execution_count": 1,
   "metadata": {},
   "outputs": [],
   "source": [
    "import numpy as np\n",
    "import pandas as pd\n",
    "import matplotlib.pyplot as plt\n",
    "import os\n",
    "import sklearn\n",
    "from sklearn.model_selection import train_test_split\n",
    "from sklearn.pipeline import make_pipeline, Pipeline\n",
    "from sklearn.preprocessing import Binarizer, OrdinalEncoder, OneHotEncoder\n",
    "from sklearn.preprocessing import FunctionTransformer\n",
    "from sklearn.preprocessing import MinMaxScaler\n",
    "from sklearn.impute import SimpleImputer\n",
    "from sklearn.compose import ColumnTransformer\n",
    "from sklearn.linear_model import LogisticRegression\n",
    "from sklearn.model_selection import GridSearchCV\n",
    "from sklearn.base import BaseEstimator, TransformerMixin\n",
    "# from sklearn.utils.estimator_checks import check_estimator"
   ]
  },
  {
   "cell_type": "code",
   "execution_count": 2,
   "metadata": {},
   "outputs": [
    {
     "data": {
      "text/plain": [
       "'0.20.3'"
      ]
     },
     "execution_count": 2,
     "metadata": {},
     "output_type": "execute_result"
    }
   ],
   "source": [
    "sklearn.__version__  # '0.20.3'"
   ]
  },
  {
   "cell_type": "markdown",
   "metadata": {},
   "source": [
    "---\n",
    "Load in the well known *Titanic* data. Put a validation set aside."
   ]
  },
  {
   "cell_type": "code",
   "execution_count": 3,
   "metadata": {},
   "outputs": [],
   "source": [
    "data_trainval = pd.read_csv(os.path.join('data', 'train.csv'))  # the Titanic-data from Kaggle"
   ]
  },
  {
   "cell_type": "code",
   "execution_count": 4,
   "metadata": {},
   "outputs": [],
   "source": [
    "X_trainval = data_trainval[data_trainval.columns.drop('Survived')]\n",
    "y_trainval = data_trainval.Survived\n",
    "\n",
    "X_train, X_val, y_train, y_val = train_test_split(X_trainval, y_trainval, test_size=0.5, stratify = y_trainval, random_state=42)"
   ]
  },
  {
   "cell_type": "code",
   "execution_count": 5,
   "metadata": {},
   "outputs": [
    {
     "data": {
      "text/plain": [
       "Index(['PassengerId', 'Pclass', 'Name', 'Sex', 'Age', 'SibSp', 'Parch',\n",
       "       'Ticket', 'Fare', 'Cabin', 'Embarked'],\n",
       "      dtype='object')"
      ]
     },
     "execution_count": 5,
     "metadata": {},
     "output_type": "execute_result"
    }
   ],
   "source": [
    "X_train.columns"
   ]
  },
  {
   "cell_type": "code",
   "execution_count": 6,
   "metadata": {},
   "outputs": [],
   "source": [
    "# X_train.dtypes\n",
    "# X_train.isnull().sum()\n",
    "# X_train.Pclass.value_counts(dropna=False)\n",
    "# X_train.hist('Age')"
   ]
  },
  {
   "cell_type": "markdown",
   "metadata": {},
   "source": [
    "---\n",
    "Assume that, after looking at types, values/categories, NaNs, etc., we've decided to proceed by using the following columns and modyfing them as specified:\n",
    "\n",
    "column | preprocessing steps\n",
    "--- | ---\n",
    "Pclass | one-hot encode\n",
    "Sex | encode to 0,1\n",
    "SibSp | binarize to 0,1 (1 for values of *SibSp* > 0)\n",
    "Parch | binarize to 0,1 (1 for values of *Parch* > 0)\n",
    "Fare | replace missing values with the average or the median; apply $x \\rightarrow \\log(1+x)$; rescale and shift so that the minimum and maximum take predefined values\n",
    "Embarked | replace missing values with the most frequent one; one-hot encode\n",
    "\n",
    "end then to train the *logistic-regression*-based classifier on those preprocessed columns.\n",
    "\n",
    "Assume also that we'd like to include hyperparameters of the *Fare*-transformer in our *grid-search* over hyperparameters of the logistic regression.\n",
    "\n",
    "It is worth stressing that - by definition - our model may be trained on the *training dataset* only. It may extract any statistics', categories and anything else from this dataset. But when the trained model will be evaluated on the validation data it is not allowed to change its state."
   ]
  },
  {
   "cell_type": "markdown",
   "metadata": {},
   "source": [
    "Using the sklearn out-of-the-box functions and classes we can comfortably construct the specified *transform-classify* production line:\n",
    "\n",
    "* we chain the transformers (that act on a single column in nested way) with the *make_pipeline* function (or the *Pipeline* class),\n",
    "* we glue the various pipelines that act on different columns together using *ColumnTransformer*,\n",
    "* the resulting complete transfomer is then chained with the classifier."
   ]
  },
  {
   "cell_type": "code",
   "execution_count": 7,
   "metadata": {},
   "outputs": [],
   "source": [
    "# ?OneHotEncoder\n",
    "# ?OrdinalEncoder\n",
    "# ?Binarizer\n",
    "# ?FunctionTransformer\n",
    "# ?MinMaxScaler\n",
    "# ?SimpleImputer\n",
    "# ?make_pipeline\n",
    "# ?Pipeline\n",
    "# ?ColumnTransformer"
   ]
  },
  {
   "cell_type": "code",
   "execution_count": 8,
   "metadata": {},
   "outputs": [],
   "source": [
    "# Fare\n",
    "\n",
    "fare_transformer = make_pipeline(\n",
    "    SimpleImputer(strategy='median'),\n",
    "    FunctionTransformer(np.log1p, validate=False),\n",
    "    MinMaxScaler(feature_range=(0, 1))\n",
    ")"
   ]
  },
  {
   "cell_type": "code",
   "execution_count": 9,
   "metadata": {},
   "outputs": [],
   "source": [
    "# come up with a list of triples consiting of:\n",
    "# an arbitrary name, the chosen Transformer class instance, and list of the relevant columns\n",
    "\n",
    "preprocessors = [\n",
    "    ('pclass_ohe', OneHotEncoder(handle_unknown = 'ignore'), ['Pclass']),\n",
    "    ('sex_encode', OrdinalEncoder(categories=[['male', 'female']]), ['Sex']),\n",
    "    ('bin', Binarizer(threshold = 0), ['SibSp', 'Parch']),\n",
    "    ('fare_transform', fare_transformer, ['Fare'])\n",
    "]\n",
    "\n",
    "preprocessing_pipe = ColumnTransformer(preprocessors)"
   ]
  },
  {
   "cell_type": "code",
   "execution_count": 10,
   "metadata": {},
   "outputs": [],
   "source": [
    "classifier = Pipeline(steps = [\n",
    "    ('preproc', preprocessing_pipe),\n",
    "    ('clf', LogisticRegression(solver='saga', max_iter=1e5))\n",
    "])"
   ]
  },
  {
   "cell_type": "code",
   "execution_count": 11,
   "metadata": {},
   "outputs": [
    {
     "data": {
      "text/plain": [
       "0.7820224719101123"
      ]
     },
     "execution_count": 11,
     "metadata": {},
     "output_type": "execute_result"
    }
   ],
   "source": [
    "classifier.fit(X_train, y_train)\n",
    "classifier.score(X_train, y_train)"
   ]
  },
  {
   "cell_type": "code",
   "execution_count": 12,
   "metadata": {},
   "outputs": [
    {
     "data": {
      "text/plain": [
       "0.7802690582959642"
      ]
     },
     "execution_count": 12,
     "metadata": {},
     "output_type": "execute_result"
    }
   ],
   "source": [
    "classifier.score(X_val, y_val)"
   ]
  },
  {
   "cell_type": "markdown",
   "metadata": {},
   "source": [
    "Btw. names of the transformers, that we were forced to come up with, have their purpose. Knowing them we can dig into the transformer. E.g. let's check how were the sexes encoded:"
   ]
  },
  {
   "cell_type": "code",
   "execution_count": 13,
   "metadata": {},
   "outputs": [
    {
     "data": {
      "text/plain": [
       "{0: 'male', 1: 'female'}"
      ]
     },
     "execution_count": 13,
     "metadata": {},
     "output_type": "execute_result"
    }
   ],
   "source": [
    "{num: preprocessing_pipe.named_transformers_['sex_encode'].inverse_transform([[num]])[0][0] for num in [0, 1]}"
   ]
  },
  {
   "cell_type": "code",
   "execution_count": 14,
   "metadata": {},
   "outputs": [
    {
     "data": {
      "text/plain": [
       "GridSearchCV(cv=4, error_score='raise-deprecating',\n",
       "       estimator=Pipeline(memory=None,\n",
       "     steps=[('preproc', ColumnTransformer(n_jobs=None, remainder='drop', sparse_threshold=0.3,\n",
       "         transformer_weights=None,\n",
       "         transformers=[('pclass_ohe', OneHotEncoder(categorical_features=None, categories=None,\n",
       "       dtype=<class 'numpy.float64'>, handle_unknown='ignore',\n",
       "       n_values=...penalty='l2', random_state=None, solver='saga',\n",
       "          tol=0.0001, verbose=0, warm_start=False))]),\n",
       "       fit_params=None, iid=False, n_jobs=-1,\n",
       "       param_grid={'preproc__fare_transform__minmaxscaler__feature_range': [(0.4, 0.6), (0, 1), (-2, 3)], 'clf__C': [0.01, 0.1, 1, 10]},\n",
       "       pre_dispatch='2*n_jobs', refit=True, return_train_score=True,\n",
       "       scoring=None, verbose=0)"
      ]
     },
     "execution_count": 14,
     "metadata": {},
     "output_type": "execute_result"
    }
   ],
   "source": [
    "# search through a grid of the hyperparameters\n",
    "\n",
    "param_grid = {}\n",
    "# param_grid['preproc__fare_transform__simpleimputer__strategy'] = ['median', 'mean']\n",
    "param_grid['preproc__fare_transform__minmaxscaler__feature_range'] = [(0.4, 0.6), (0, 1), (-2, 3)]\n",
    "param_grid['clf__C'] = [0.01, 0.1, 1, 10]\n",
    "# param_grid['clf__penalty'] = ['l1', 'l2']\n",
    "\n",
    "# do the grid-search\n",
    "classifier_gridcv = GridSearchCV(classifier, param_grid, cv=4, refit=True, return_train_score=True, n_jobs=-1, iid=False)\n",
    "classifier_gridcv.fit(X_train, y_train)"
   ]
  },
  {
   "cell_type": "code",
   "execution_count": 15,
   "metadata": {},
   "outputs": [
    {
     "data": {
      "text/plain": [
       "{0: 'mean_fit_time',\n",
       " 1: 'std_fit_time',\n",
       " 2: 'mean_score_time',\n",
       " 3: 'std_score_time',\n",
       " 4: 'param_clf__C',\n",
       " 5: 'param_preproc__fare_transform__minmaxscaler__feature_range',\n",
       " 6: 'params',\n",
       " 7: 'split0_test_score',\n",
       " 8: 'split1_test_score',\n",
       " 9: 'split2_test_score',\n",
       " 10: 'split3_test_score',\n",
       " 11: 'mean_test_score',\n",
       " 12: 'std_test_score',\n",
       " 13: 'rank_test_score',\n",
       " 14: 'split0_train_score',\n",
       " 15: 'split1_train_score',\n",
       " 16: 'split2_train_score',\n",
       " 17: 'split3_train_score',\n",
       " 18: 'mean_train_score',\n",
       " 19: 'std_train_score'}"
      ]
     },
     "execution_count": 15,
     "metadata": {},
     "output_type": "execute_result"
    }
   ],
   "source": [
    "# The fitted *GridSearchCV* instance contains the `cv_results_` dictionary\n",
    "\n",
    "{idx: key for (idx, key) in enumerate(classifier_gridcv.cv_results_.keys())}"
   ]
  },
  {
   "cell_type": "code",
   "execution_count": 16,
   "metadata": {},
   "outputs": [
    {
     "data": {
      "text/html": [
       "<div>\n",
       "<style scoped>\n",
       "    .dataframe tbody tr th:only-of-type {\n",
       "        vertical-align: middle;\n",
       "    }\n",
       "\n",
       "    .dataframe tbody tr th {\n",
       "        vertical-align: top;\n",
       "    }\n",
       "\n",
       "    .dataframe thead th {\n",
       "        text-align: right;\n",
       "    }\n",
       "</style>\n",
       "<table border=\"1\" class=\"dataframe\">\n",
       "  <thead>\n",
       "    <tr style=\"text-align: right;\">\n",
       "      <th></th>\n",
       "      <th>4</th>\n",
       "      <th>5</th>\n",
       "      <th>11</th>\n",
       "      <th>18</th>\n",
       "    </tr>\n",
       "  </thead>\n",
       "  <tbody>\n",
       "    <tr>\n",
       "      <th>6</th>\n",
       "      <td>1</td>\n",
       "      <td>(0.4, 0.6)</td>\n",
       "      <td>0.782005</td>\n",
       "      <td>0.776786</td>\n",
       "    </tr>\n",
       "    <tr>\n",
       "      <th>9</th>\n",
       "      <td>10</td>\n",
       "      <td>(0.4, 0.6)</td>\n",
       "      <td>0.782005</td>\n",
       "      <td>0.776786</td>\n",
       "    </tr>\n",
       "    <tr>\n",
       "      <th>7</th>\n",
       "      <td>1</td>\n",
       "      <td>(0, 1)</td>\n",
       "      <td>0.781964</td>\n",
       "      <td>0.779036</td>\n",
       "    </tr>\n",
       "    <tr>\n",
       "      <th>8</th>\n",
       "      <td>1</td>\n",
       "      <td>(-2, 3)</td>\n",
       "      <td>0.775248</td>\n",
       "      <td>0.776777</td>\n",
       "    </tr>\n",
       "    <tr>\n",
       "      <th>10</th>\n",
       "      <td>10</td>\n",
       "      <td>(0, 1)</td>\n",
       "      <td>0.775248</td>\n",
       "      <td>0.776788</td>\n",
       "    </tr>\n",
       "    <tr>\n",
       "      <th>11</th>\n",
       "      <td>10</td>\n",
       "      <td>(-2, 3)</td>\n",
       "      <td>0.775248</td>\n",
       "      <td>0.776035</td>\n",
       "    </tr>\n",
       "    <tr>\n",
       "      <th>3</th>\n",
       "      <td>0.1</td>\n",
       "      <td>(0.4, 0.6)</td>\n",
       "      <td>0.754996</td>\n",
       "      <td>0.767053</td>\n",
       "    </tr>\n",
       "    <tr>\n",
       "      <th>5</th>\n",
       "      <td>0.1</td>\n",
       "      <td>(-2, 3)</td>\n",
       "      <td>0.752744</td>\n",
       "      <td>0.749062</td>\n",
       "    </tr>\n",
       "    <tr>\n",
       "      <th>4</th>\n",
       "      <td>0.1</td>\n",
       "      <td>(0, 1)</td>\n",
       "      <td>0.745966</td>\n",
       "      <td>0.766304</td>\n",
       "    </tr>\n",
       "    <tr>\n",
       "      <th>2</th>\n",
       "      <td>0.01</td>\n",
       "      <td>(-2, 3)</td>\n",
       "      <td>0.705586</td>\n",
       "      <td>0.707100</td>\n",
       "    </tr>\n",
       "    <tr>\n",
       "      <th>1</th>\n",
       "      <td>0.01</td>\n",
       "      <td>(0, 1)</td>\n",
       "      <td>0.647207</td>\n",
       "      <td>0.644923</td>\n",
       "    </tr>\n",
       "    <tr>\n",
       "      <th>0</th>\n",
       "      <td>0.01</td>\n",
       "      <td>(0.4, 0.6)</td>\n",
       "      <td>0.638157</td>\n",
       "      <td>0.638202</td>\n",
       "    </tr>\n",
       "  </tbody>\n",
       "</table>\n",
       "</div>"
      ],
      "text/plain": [
       "      4           5         11        18\n",
       "6      1  (0.4, 0.6)  0.782005  0.776786\n",
       "9     10  (0.4, 0.6)  0.782005  0.776786\n",
       "7      1      (0, 1)  0.781964  0.779036\n",
       "8      1     (-2, 3)  0.775248  0.776777\n",
       "10    10      (0, 1)  0.775248  0.776788\n",
       "11    10     (-2, 3)  0.775248  0.776035\n",
       "3    0.1  (0.4, 0.6)  0.754996  0.767053\n",
       "5    0.1     (-2, 3)  0.752744  0.749062\n",
       "4    0.1      (0, 1)  0.745966  0.766304\n",
       "2   0.01     (-2, 3)  0.705586  0.707100\n",
       "1   0.01      (0, 1)  0.647207  0.644923\n",
       "0   0.01  (0.4, 0.6)  0.638157  0.638202"
      ]
     },
     "execution_count": 16,
     "metadata": {},
     "output_type": "execute_result"
    }
   ],
   "source": [
    "column_translate = {key: idx for (idx, key) in enumerate(classifier_gridcv.cv_results_.keys())}\n",
    "choose = [4, 5, 11, 18]\n",
    "sort_by = 11\n",
    "results = pd.DataFrame(classifier_gridcv.cv_results_).iloc[:, choose].rename(columns=column_translate).sort_values(sort_by, ascending=False)\n",
    "results"
   ]
  },
  {
   "cell_type": "code",
   "execution_count": 17,
   "metadata": {},
   "outputs": [
    {
     "data": {
      "text/plain": [
       "0.7797752808988764"
      ]
     },
     "execution_count": 17,
     "metadata": {},
     "output_type": "execute_result"
    }
   ],
   "source": [
    "classifier_tuned = classifier_gridcv.best_estimator_\n",
    "classifier_tuned.score(X_train, y_train)"
   ]
  },
  {
   "cell_type": "markdown",
   "metadata": {},
   "source": [
    "Notice that the `classifier` (and the `classifier_tuned`) has an internal state that depends on the training-data. The validation data should not modify this state. It is easy to be sure of that: our whole classifier is a single class instance and we never call its `fit` method with any other data than the `X_train` and `y_train`."
   ]
  },
  {
   "cell_type": "code",
   "execution_count": 18,
   "metadata": {},
   "outputs": [
    {
     "data": {
      "text/plain": [
       "0.7802690582959642"
      ]
     },
     "execution_count": 18,
     "metadata": {},
     "output_type": "execute_result"
    }
   ],
   "source": [
    "classifier_tuned.score(X_val, y_val)"
   ]
  },
  {
   "cell_type": "markdown",
   "metadata": {},
   "source": [
    "Now it is also easy to remove some of the transformed features if we ever decide to do that, or add new ones. We can also pause here, return in a month, and pick up where we left without hassle."
   ]
  },
  {
   "cell_type": "markdown",
   "metadata": {},
   "source": [
    "**Exercise**\n",
    "\n",
    "We  have forgotten to hadle the *Embarked* feature. Modify the *preprocessing_pipe* object to fulfill the strategy described in the table. Did it improve the validation score?"
   ]
  },
  {
   "cell_type": "markdown",
   "metadata": {},
   "source": [
    "---\n",
    "Proposed solution below\n",
    "\n",
    "---\n",
    "---\n",
    "---\n",
    "---\n",
    "---\n",
    "---\n",
    "---\n",
    "---\n",
    "---\n",
    "---\n",
    "---\n",
    "---\n",
    "---\n",
    "---\n",
    "---\n",
    "---\n",
    "---"
   ]
  },
  {
   "cell_type": "code",
   "execution_count": 19,
   "metadata": {},
   "outputs": [
    {
     "data": {
      "text/plain": [
       "0.7892376681614349"
      ]
     },
     "execution_count": 19,
     "metadata": {},
     "output_type": "execute_result"
    }
   ],
   "source": [
    "embarked_transformer = make_pipeline(\n",
    "    SimpleImputer(strategy='most_frequent'),\n",
    "    OneHotEncoder(handle_unknown = 'ignore')\n",
    ")\n",
    "\n",
    "preprocessors = [\n",
    "    ('pclass_ohe', OneHotEncoder(handle_unknown = 'ignore'), ['Pclass']),\n",
    "    ('sex_encode', OrdinalEncoder(categories=[['female', 'male']]), ['Sex']),\n",
    "    ('bin', Binarizer(threshold = 0), ['SibSp', 'Parch']),\n",
    "    ('embarked_ohe', embarked_transformer, ['Embarked']),\n",
    "    ('fare_transform', fare_transformer, ['Fare'])\n",
    "]\n",
    "preprocessing_pipe = ColumnTransformer(preprocessors)\n",
    "\n",
    "classifier = Pipeline(steps = [\n",
    "    ('preproc', preprocessing_pipe),\n",
    "    ('clf', LogisticRegression(solver='saga', max_iter=1e5))\n",
    "])\n",
    "\n",
    "param_grid = {}\n",
    "param_grid['preproc__fare_transform__minmaxscaler__feature_range'] = [(0.4, 0.6), (0, 1), (-2, 3)]\n",
    "param_grid['clf__C'] = [0.01, 0.1, 1, 10]\n",
    "\n",
    "classifier_gridcv = GridSearchCV(classifier, param_grid, cv=4, refit=True, return_train_score=True, n_jobs=-1, iid=False)\n",
    "classifier_gridcv.fit(X_train, y_train)\n",
    "classifier_gridcv.best_estimator_.score(X_val, y_val)"
   ]
  },
  {
   "cell_type": "markdown",
   "metadata": {},
   "source": [
    "---\n",
    "---\n",
    "\n",
    "## Custom transformers"
   ]
  },
  {
   "cell_type": "markdown",
   "metadata": {},
   "source": [
    "It's all well and good: *scikit-learn* has a ton of useful classes, obviously. Alas, we may not yet have time to write our own classifiers or regressors but what if we want some preprocessing functionality from say *pandas* rather than pure *scikit-learn*?\n",
    "\n",
    "We can wrap it in a *transformer class* that complies with *sklearn*'s API. We need to inherit from *BaseEstimator* and *TransformerMixin*, and then we implement `fit` and `transform` methods:"
   ]
  },
  {
   "cell_type": "code",
   "execution_count": 20,
   "metadata": {},
   "outputs": [],
   "source": [
    "# ?BaseEstimator\n",
    "# ?TransformerMixin"
   ]
  },
  {
   "cell_type": "markdown",
   "metadata": {},
   "source": [
    "https://scikit-learn.org/stable/modules/generated/sklearn.base.BaseEstimator.html#sklearn.base.BaseEstimator\n",
    "https://scikit-learn.org/stable/modules/generated/sklearn.base.TransformerMixin.html#sklearn.base.TransformerMixin"
   ]
  },
  {
   "cell_type": "markdown",
   "metadata": {},
   "source": [
    "Here's the simplest example: a transformer that does exactly nothing."
   ]
  },
  {
   "cell_type": "code",
   "execution_count": 21,
   "metadata": {},
   "outputs": [],
   "source": [
    "class Identity(BaseEstimator, TransformerMixin):\n",
    "    def __init__(self):\n",
    "        return None\n",
    "    \n",
    "    def fit(self, X, y=None):\n",
    "        return self\n",
    "        \n",
    "    def transform(self, X):\n",
    "        return X"
   ]
  },
  {
   "cell_type": "markdown",
   "metadata": {},
   "source": [
    "It can be used in a pipeline. Let's use it to pass the *Age* feature unmodified through our previously constructed preprocessing transformer."
   ]
  },
  {
   "cell_type": "code",
   "execution_count": 22,
   "metadata": {},
   "outputs": [],
   "source": [
    "preprocessors = [\n",
    "    ('pclass_ohe', OneHotEncoder(handle_unknown = 'ignore'), ['Pclass']),\n",
    "    ('sex_encode', OrdinalEncoder(categories=[['female', 'male']]), ['Sex']),\n",
    "    ('bin', Binarizer(threshold = 0), ['SibSp', 'Parch']),\n",
    "    ('embarked_ohe', embarked_transformer, ['Embarked']),\n",
    "    ('fare_transform', fare_transformer, ['Fare']),\n",
    "    ('id', Identity(), ['Age'])\n",
    "]\n",
    "\n",
    "preprocessing_pipe = ColumnTransformer(preprocessors)"
   ]
  },
  {
   "cell_type": "code",
   "execution_count": 23,
   "metadata": {},
   "outputs": [],
   "source": [
    "X_train_prepr = preprocessing_pipe.fit_transform(X_train)"
   ]
  },
  {
   "cell_type": "code",
   "execution_count": 24,
   "metadata": {},
   "outputs": [
    {
     "data": {
      "text/html": [
       "<div>\n",
       "<style scoped>\n",
       "    .dataframe tbody tr th:only-of-type {\n",
       "        vertical-align: middle;\n",
       "    }\n",
       "\n",
       "    .dataframe tbody tr th {\n",
       "        vertical-align: top;\n",
       "    }\n",
       "\n",
       "    .dataframe thead th {\n",
       "        text-align: right;\n",
       "    }\n",
       "</style>\n",
       "<table border=\"1\" class=\"dataframe\">\n",
       "  <thead>\n",
       "    <tr style=\"text-align: right;\">\n",
       "      <th></th>\n",
       "      <th>Class_1</th>\n",
       "      <th>Class_2</th>\n",
       "      <th>Class_3</th>\n",
       "      <th>Sex</th>\n",
       "      <th>SibSp_</th>\n",
       "      <th>ParCh_</th>\n",
       "      <th>Embarked_C</th>\n",
       "      <th>Embarked_Q</th>\n",
       "      <th>Embarked_S</th>\n",
       "      <th>Fare_transformed</th>\n",
       "      <th>Age</th>\n",
       "    </tr>\n",
       "  </thead>\n",
       "  <tbody>\n",
       "    <tr>\n",
       "      <th>0</th>\n",
       "      <td>0.0</td>\n",
       "      <td>0.0</td>\n",
       "      <td>1.0</td>\n",
       "      <td>1.0</td>\n",
       "      <td>0.0</td>\n",
       "      <td>0.0</td>\n",
       "      <td>0.0</td>\n",
       "      <td>0.0</td>\n",
       "      <td>1.0</td>\n",
       "      <td>0.359602</td>\n",
       "      <td>21.0</td>\n",
       "    </tr>\n",
       "    <tr>\n",
       "      <th>1</th>\n",
       "      <td>1.0</td>\n",
       "      <td>0.0</td>\n",
       "      <td>0.0</td>\n",
       "      <td>1.0</td>\n",
       "      <td>0.0</td>\n",
       "      <td>1.0</td>\n",
       "      <td>1.0</td>\n",
       "      <td>0.0</td>\n",
       "      <td>0.0</td>\n",
       "      <td>0.755891</td>\n",
       "      <td>17.0</td>\n",
       "    </tr>\n",
       "    <tr>\n",
       "      <th>2</th>\n",
       "      <td>0.0</td>\n",
       "      <td>0.0</td>\n",
       "      <td>1.0</td>\n",
       "      <td>0.0</td>\n",
       "      <td>0.0</td>\n",
       "      <td>1.0</td>\n",
       "      <td>0.0</td>\n",
       "      <td>0.0</td>\n",
       "      <td>1.0</td>\n",
       "      <td>0.489446</td>\n",
       "      <td>41.0</td>\n",
       "    </tr>\n",
       "    <tr>\n",
       "      <th>3</th>\n",
       "      <td>0.0</td>\n",
       "      <td>0.0</td>\n",
       "      <td>1.0</td>\n",
       "      <td>0.0</td>\n",
       "      <td>1.0</td>\n",
       "      <td>1.0</td>\n",
       "      <td>0.0</td>\n",
       "      <td>0.0</td>\n",
       "      <td>1.0</td>\n",
       "      <td>0.495832</td>\n",
       "      <td>8.0</td>\n",
       "    </tr>\n",
       "  </tbody>\n",
       "</table>\n",
       "</div>"
      ],
      "text/plain": [
       "   Class_1  Class_2  Class_3  Sex  SibSp_  ParCh_  Embarked_C  Embarked_Q  \\\n",
       "0      0.0      0.0      1.0  1.0     0.0     0.0         0.0         0.0   \n",
       "1      1.0      0.0      0.0  1.0     0.0     1.0         1.0         0.0   \n",
       "2      0.0      0.0      1.0  0.0     0.0     1.0         0.0         0.0   \n",
       "3      0.0      0.0      1.0  0.0     1.0     1.0         0.0         0.0   \n",
       "\n",
       "   Embarked_S  Fare_transformed   Age  \n",
       "0         1.0          0.359602  21.0  \n",
       "1         0.0          0.755891  17.0  \n",
       "2         1.0          0.489446  41.0  \n",
       "3         1.0          0.495832   8.0  "
      ]
     },
     "execution_count": 24,
     "metadata": {},
     "output_type": "execute_result"
    }
   ],
   "source": [
    "# come up with reasonable column names for the preprocessed features\n",
    "columns_prepr \\\n",
    "= [\"Class_\" + str(class_) for class_ in preprocessing_pipe.named_transformers_['pclass_ohe'].categories_[0]] \\\n",
    "+ ['Sex'] \\\n",
    "+ ['SibSp_', 'ParCh_'] \\\n",
    "+ [\"Embarked_\" + str(city) for city in preprocessing_pipe.named_transformers_['embarked_ohe'].named_steps['onehotencoder'].categories_[0]] \\\n",
    "+ ['Fare_transformed'] \\\n",
    "+ ['Age']\n",
    "\n",
    "X_train_prepr_df = pd.DataFrame(X_train_prepr, columns = columns_prepr)\n",
    "X_train_prepr_df[:4]"
   ]
  },
  {
   "cell_type": "markdown",
   "metadata": {},
   "source": [
    "Make the operation of casting the *X_train_prepr* into a pandas dataframe with nice columns also a transformer!"
   ]
  },
  {
   "cell_type": "code",
   "execution_count": 25,
   "metadata": {},
   "outputs": [
    {
     "data": {
      "text/html": [
       "<div>\n",
       "<style scoped>\n",
       "    .dataframe tbody tr th:only-of-type {\n",
       "        vertical-align: middle;\n",
       "    }\n",
       "\n",
       "    .dataframe tbody tr th {\n",
       "        vertical-align: top;\n",
       "    }\n",
       "\n",
       "    .dataframe thead th {\n",
       "        text-align: right;\n",
       "    }\n",
       "</style>\n",
       "<table border=\"1\" class=\"dataframe\">\n",
       "  <thead>\n",
       "    <tr style=\"text-align: right;\">\n",
       "      <th></th>\n",
       "      <th>Class_1</th>\n",
       "      <th>Class_2</th>\n",
       "      <th>Class_3</th>\n",
       "      <th>Sex</th>\n",
       "      <th>SibSp_</th>\n",
       "      <th>ParCh_</th>\n",
       "      <th>Embarked_C</th>\n",
       "      <th>Embarked_Q</th>\n",
       "      <th>Embarked_S</th>\n",
       "      <th>Fare_transformed</th>\n",
       "      <th>Age</th>\n",
       "    </tr>\n",
       "  </thead>\n",
       "  <tbody>\n",
       "    <tr>\n",
       "      <th>0</th>\n",
       "      <td>0.0</td>\n",
       "      <td>0.0</td>\n",
       "      <td>1.0</td>\n",
       "      <td>1.0</td>\n",
       "      <td>0.0</td>\n",
       "      <td>0.0</td>\n",
       "      <td>0.0</td>\n",
       "      <td>0.0</td>\n",
       "      <td>1.0</td>\n",
       "      <td>0.359602</td>\n",
       "      <td>21.0</td>\n",
       "    </tr>\n",
       "    <tr>\n",
       "      <th>1</th>\n",
       "      <td>1.0</td>\n",
       "      <td>0.0</td>\n",
       "      <td>0.0</td>\n",
       "      <td>1.0</td>\n",
       "      <td>0.0</td>\n",
       "      <td>1.0</td>\n",
       "      <td>1.0</td>\n",
       "      <td>0.0</td>\n",
       "      <td>0.0</td>\n",
       "      <td>0.755891</td>\n",
       "      <td>17.0</td>\n",
       "    </tr>\n",
       "    <tr>\n",
       "      <th>2</th>\n",
       "      <td>0.0</td>\n",
       "      <td>0.0</td>\n",
       "      <td>1.0</td>\n",
       "      <td>0.0</td>\n",
       "      <td>0.0</td>\n",
       "      <td>1.0</td>\n",
       "      <td>0.0</td>\n",
       "      <td>0.0</td>\n",
       "      <td>1.0</td>\n",
       "      <td>0.489446</td>\n",
       "      <td>41.0</td>\n",
       "    </tr>\n",
       "    <tr>\n",
       "      <th>3</th>\n",
       "      <td>0.0</td>\n",
       "      <td>0.0</td>\n",
       "      <td>1.0</td>\n",
       "      <td>0.0</td>\n",
       "      <td>1.0</td>\n",
       "      <td>1.0</td>\n",
       "      <td>0.0</td>\n",
       "      <td>0.0</td>\n",
       "      <td>1.0</td>\n",
       "      <td>0.495832</td>\n",
       "      <td>8.0</td>\n",
       "    </tr>\n",
       "  </tbody>\n",
       "</table>\n",
       "</div>"
      ],
      "text/plain": [
       "   Class_1  Class_2  Class_3  Sex  SibSp_  ParCh_  Embarked_C  Embarked_Q  \\\n",
       "0      0.0      0.0      1.0  1.0     0.0     0.0         0.0         0.0   \n",
       "1      1.0      0.0      0.0  1.0     0.0     1.0         1.0         0.0   \n",
       "2      0.0      0.0      1.0  0.0     0.0     1.0         0.0         0.0   \n",
       "3      0.0      0.0      1.0  0.0     1.0     1.0         0.0         0.0   \n",
       "\n",
       "   Embarked_S  Fare_transformed   Age  \n",
       "0         1.0          0.359602  21.0  \n",
       "1         0.0          0.755891  17.0  \n",
       "2         1.0          0.489446  41.0  \n",
       "3         1.0          0.495832   8.0  "
      ]
     },
     "execution_count": 25,
     "metadata": {},
     "output_type": "execute_result"
    }
   ],
   "source": [
    "class Polish(BaseEstimator, TransformerMixin):\n",
    "    def __init__(self, columns):\n",
    "        self.columns= columns\n",
    "        return None\n",
    "    \n",
    "    def fit(self, X, y=None):\n",
    "        return self\n",
    "        \n",
    "    def transform(self, X):\n",
    "        return pd.DataFrame(X, columns=self.columns)\n",
    "    \n",
    "X_train_prepr_df = Polish(columns_prepr).fit_transform(X_train_prepr)\n",
    "X_train_prepr_df[:4]"
   ]
  },
  {
   "cell_type": "markdown",
   "metadata": {},
   "source": [
    "---\n",
    "There's a lot of missing values in the *Age* column. What should we do about it?"
   ]
  },
  {
   "cell_type": "code",
   "execution_count": 26,
   "metadata": {},
   "outputs": [
    {
     "data": {
      "text/plain": [
       "0.20449438202247192"
      ]
     },
     "execution_count": 26,
     "metadata": {},
     "output_type": "execute_result"
    }
   ],
   "source": [
    "X_train_prepr_df.Age.isnull().sum() / len(X_train_prepr_df)"
   ]
  },
  {
   "cell_type": "markdown",
   "metadata": {},
   "source": [
    "Here's a suggestion that someone has given to me. Group the passangers by other features and see if you can infer the missing *Age* based on which group they belong to. Let's for example group by *Class*, *Sex*, *SibSp* and *ParCh*:"
   ]
  },
  {
   "cell_type": "code",
   "execution_count": 27,
   "metadata": {},
   "outputs": [
    {
     "data": {
      "text/html": [
       "<div>\n",
       "<style scoped>\n",
       "    .dataframe tbody tr th:only-of-type {\n",
       "        vertical-align: middle;\n",
       "    }\n",
       "\n",
       "    .dataframe tbody tr th {\n",
       "        vertical-align: top;\n",
       "    }\n",
       "\n",
       "    .dataframe thead th {\n",
       "        text-align: right;\n",
       "    }\n",
       "</style>\n",
       "<table border=\"1\" class=\"dataframe\">\n",
       "  <thead>\n",
       "    <tr style=\"text-align: right;\">\n",
       "      <th></th>\n",
       "      <th></th>\n",
       "      <th></th>\n",
       "      <th></th>\n",
       "      <th></th>\n",
       "      <th>mean</th>\n",
       "      <th>std</th>\n",
       "      <th>count</th>\n",
       "    </tr>\n",
       "    <tr>\n",
       "      <th>Class_1</th>\n",
       "      <th>Class_2</th>\n",
       "      <th>Sex</th>\n",
       "      <th>SibSp_</th>\n",
       "      <th>ParCh_</th>\n",
       "      <th></th>\n",
       "      <th></th>\n",
       "      <th></th>\n",
       "    </tr>\n",
       "  </thead>\n",
       "  <tbody>\n",
       "    <tr>\n",
       "      <th rowspan=\"16\" valign=\"top\">0.0</th>\n",
       "      <th rowspan=\"8\" valign=\"top\">0.0</th>\n",
       "      <th rowspan=\"4\" valign=\"top\">0.0</th>\n",
       "      <th rowspan=\"2\" valign=\"top\">0.0</th>\n",
       "      <th>0.0</th>\n",
       "      <td>23.500000</td>\n",
       "      <td>11.638657</td>\n",
       "      <td>25</td>\n",
       "    </tr>\n",
       "    <tr>\n",
       "      <th>1.0</th>\n",
       "      <td>24.777778</td>\n",
       "      <td>15.570628</td>\n",
       "      <td>9</td>\n",
       "    </tr>\n",
       "    <tr>\n",
       "      <th rowspan=\"2\" valign=\"top\">1.0</th>\n",
       "      <th>0.0</th>\n",
       "      <td>26.277778</td>\n",
       "      <td>9.731107</td>\n",
       "      <td>9</td>\n",
       "    </tr>\n",
       "    <tr>\n",
       "      <th>1.0</th>\n",
       "      <td>18.923077</td>\n",
       "      <td>17.332347</td>\n",
       "      <td>13</td>\n",
       "    </tr>\n",
       "    <tr>\n",
       "      <th rowspan=\"4\" valign=\"top\">1.0</th>\n",
       "      <th rowspan=\"2\" valign=\"top\">0.0</th>\n",
       "      <th>0.0</th>\n",
       "      <td>30.159341</td>\n",
       "      <td>11.919843</td>\n",
       "      <td>91</td>\n",
       "    </tr>\n",
       "    <tr>\n",
       "      <th>1.0</th>\n",
       "      <td>3.210000</td>\n",
       "      <td>3.945656</td>\n",
       "      <td>2</td>\n",
       "    </tr>\n",
       "    <tr>\n",
       "      <th rowspan=\"2\" valign=\"top\">1.0</th>\n",
       "      <th>0.0</th>\n",
       "      <td>28.700000</td>\n",
       "      <td>4.691600</td>\n",
       "      <td>10</td>\n",
       "    </tr>\n",
       "    <tr>\n",
       "      <th>1.0</th>\n",
       "      <td>18.294118</td>\n",
       "      <td>12.824609</td>\n",
       "      <td>17</td>\n",
       "    </tr>\n",
       "    <tr>\n",
       "      <th rowspan=\"8\" valign=\"top\">1.0</th>\n",
       "      <th rowspan=\"4\" valign=\"top\">0.0</th>\n",
       "      <th rowspan=\"2\" valign=\"top\">0.0</th>\n",
       "      <th>0.0</th>\n",
       "      <td>36.045455</td>\n",
       "      <td>9.717136</td>\n",
       "      <td>11</td>\n",
       "    </tr>\n",
       "    <tr>\n",
       "      <th>1.0</th>\n",
       "      <td>18.857143</td>\n",
       "      <td>13.993196</td>\n",
       "      <td>7</td>\n",
       "    </tr>\n",
       "    <tr>\n",
       "      <th rowspan=\"2\" valign=\"top\">1.0</th>\n",
       "      <th>0.0</th>\n",
       "      <td>32.333333</td>\n",
       "      <td>8.453796</td>\n",
       "      <td>6</td>\n",
       "    </tr>\n",
       "    <tr>\n",
       "      <th>1.0</th>\n",
       "      <td>29.307692</td>\n",
       "      <td>15.068646</td>\n",
       "      <td>13</td>\n",
       "    </tr>\n",
       "    <tr>\n",
       "      <th rowspan=\"4\" valign=\"top\">1.0</th>\n",
       "      <th rowspan=\"2\" valign=\"top\">0.0</th>\n",
       "      <th>0.0</th>\n",
       "      <td>33.965517</td>\n",
       "      <td>13.507889</td>\n",
       "      <td>29</td>\n",
       "    </tr>\n",
       "    <tr>\n",
       "      <th>1.0</th>\n",
       "      <td>9.943333</td>\n",
       "      <td>15.637763</td>\n",
       "      <td>3</td>\n",
       "    </tr>\n",
       "    <tr>\n",
       "      <th rowspan=\"2\" valign=\"top\">1.0</th>\n",
       "      <th>0.0</th>\n",
       "      <td>34.954545</td>\n",
       "      <td>8.799019</td>\n",
       "      <td>11</td>\n",
       "    </tr>\n",
       "    <tr>\n",
       "      <th>1.0</th>\n",
       "      <td>11.900000</td>\n",
       "      <td>15.484571</td>\n",
       "      <td>5</td>\n",
       "    </tr>\n",
       "    <tr>\n",
       "      <th rowspan=\"8\" valign=\"top\">1.0</th>\n",
       "      <th rowspan=\"8\" valign=\"top\">0.0</th>\n",
       "      <th rowspan=\"4\" valign=\"top\">0.0</th>\n",
       "      <th rowspan=\"2\" valign=\"top\">0.0</th>\n",
       "      <th>0.0</th>\n",
       "      <td>38.705882</td>\n",
       "      <td>12.174588</td>\n",
       "      <td>17</td>\n",
       "    </tr>\n",
       "    <tr>\n",
       "      <th>1.0</th>\n",
       "      <td>32.625000</td>\n",
       "      <td>16.035118</td>\n",
       "      <td>8</td>\n",
       "    </tr>\n",
       "    <tr>\n",
       "      <th rowspan=\"2\" valign=\"top\">1.0</th>\n",
       "      <th>0.0</th>\n",
       "      <td>37.600000</td>\n",
       "      <td>13.475904</td>\n",
       "      <td>10</td>\n",
       "    </tr>\n",
       "    <tr>\n",
       "      <th>1.0</th>\n",
       "      <td>37.000000</td>\n",
       "      <td>11.849051</td>\n",
       "      <td>6</td>\n",
       "    </tr>\n",
       "    <tr>\n",
       "      <th rowspan=\"4\" valign=\"top\">1.0</th>\n",
       "      <th rowspan=\"2\" valign=\"top\">0.0</th>\n",
       "      <th>0.0</th>\n",
       "      <td>44.775862</td>\n",
       "      <td>14.567323</td>\n",
       "      <td>29</td>\n",
       "    </tr>\n",
       "    <tr>\n",
       "      <th>1.0</th>\n",
       "      <td>34.777778</td>\n",
       "      <td>19.620001</td>\n",
       "      <td>9</td>\n",
       "    </tr>\n",
       "    <tr>\n",
       "      <th rowspan=\"2\" valign=\"top\">1.0</th>\n",
       "      <th>0.0</th>\n",
       "      <td>37.250000</td>\n",
       "      <td>11.756043</td>\n",
       "      <td>12</td>\n",
       "    </tr>\n",
       "    <tr>\n",
       "      <th>1.0</th>\n",
       "      <td>18.960000</td>\n",
       "      <td>25.512413</td>\n",
       "      <td>2</td>\n",
       "    </tr>\n",
       "  </tbody>\n",
       "</table>\n",
       "</div>"
      ],
      "text/plain": [
       "                                        mean        std  count\n",
       "Class_1 Class_2 Sex SibSp_ ParCh_                             \n",
       "0.0     0.0     0.0 0.0    0.0     23.500000  11.638657     25\n",
       "                           1.0     24.777778  15.570628      9\n",
       "                    1.0    0.0     26.277778   9.731107      9\n",
       "                           1.0     18.923077  17.332347     13\n",
       "                1.0 0.0    0.0     30.159341  11.919843     91\n",
       "                           1.0      3.210000   3.945656      2\n",
       "                    1.0    0.0     28.700000   4.691600     10\n",
       "                           1.0     18.294118  12.824609     17\n",
       "        1.0     0.0 0.0    0.0     36.045455   9.717136     11\n",
       "                           1.0     18.857143  13.993196      7\n",
       "                    1.0    0.0     32.333333   8.453796      6\n",
       "                           1.0     29.307692  15.068646     13\n",
       "                1.0 0.0    0.0     33.965517  13.507889     29\n",
       "                           1.0      9.943333  15.637763      3\n",
       "                    1.0    0.0     34.954545   8.799019     11\n",
       "                           1.0     11.900000  15.484571      5\n",
       "1.0     0.0     0.0 0.0    0.0     38.705882  12.174588     17\n",
       "                           1.0     32.625000  16.035118      8\n",
       "                    1.0    0.0     37.600000  13.475904     10\n",
       "                           1.0     37.000000  11.849051      6\n",
       "                1.0 0.0    0.0     44.775862  14.567323     29\n",
       "                           1.0     34.777778  19.620001      9\n",
       "                    1.0    0.0     37.250000  11.756043     12\n",
       "                           1.0     18.960000  25.512413      2"
      ]
     },
     "execution_count": 27,
     "metadata": {},
     "output_type": "execute_result"
    }
   ],
   "source": [
    "groupby_columns = ['Class_1', 'Class_2', 'Sex', 'SibSp_', 'ParCh_']\n",
    "X_train_prepr_grouped = X_train_prepr_df[X_train_prepr_df.Age.notnull()].groupby(groupby_columns)\n",
    "\n",
    "# see statistics of *Age* in each group\n",
    "X_train_prepr_grouped_age = pd.concat([X_train_prepr_grouped['Age'].mean(), X_train_prepr_grouped['Age'].std(), X_train_prepr_grouped['Age'].count()], axis = 1)\n",
    "X_train_prepr_grouped_age.columns = ['mean', 'std', 'count']\n",
    "X_train_prepr_grouped_age"
   ]
  },
  {
   "cell_type": "markdown",
   "metadata": {},
   "source": [
    "Make a dictionary from group-labels to the mean *Age* values"
   ]
  },
  {
   "cell_type": "code",
   "execution_count": 28,
   "metadata": {},
   "outputs": [
    {
     "data": {
      "text/plain": [
       "{(0.0, 0.0, 0.0, 0.0, 0.0): 23.5,\n",
       " (0.0, 0.0, 0.0, 0.0, 1.0): 24.77777777777778,\n",
       " (0.0, 0.0, 0.0, 1.0, 0.0): 26.27777777777778,\n",
       " (0.0, 0.0, 0.0, 1.0, 1.0): 18.923076923076923,\n",
       " (0.0, 0.0, 1.0, 0.0, 0.0): 30.15934065934066,\n",
       " (0.0, 0.0, 1.0, 0.0, 1.0): 3.21,\n",
       " (0.0, 0.0, 1.0, 1.0, 0.0): 28.7,\n",
       " (0.0, 0.0, 1.0, 1.0, 1.0): 18.294117647058822,\n",
       " (0.0, 1.0, 0.0, 0.0, 0.0): 36.04545454545455,\n",
       " (0.0, 1.0, 0.0, 0.0, 1.0): 18.857142857142858,\n",
       " (0.0, 1.0, 0.0, 1.0, 0.0): 32.333333333333336,\n",
       " (0.0, 1.0, 0.0, 1.0, 1.0): 29.307692307692307,\n",
       " (0.0, 1.0, 1.0, 0.0, 0.0): 33.96551724137931,\n",
       " (0.0, 1.0, 1.0, 0.0, 1.0): 9.943333333333333,\n",
       " (0.0, 1.0, 1.0, 1.0, 0.0): 34.95454545454545,\n",
       " (0.0, 1.0, 1.0, 1.0, 1.0): 11.9,\n",
       " (1.0, 0.0, 0.0, 0.0, 0.0): 38.705882352941174,\n",
       " (1.0, 0.0, 0.0, 0.0, 1.0): 32.625,\n",
       " (1.0, 0.0, 0.0, 1.0, 0.0): 37.6,\n",
       " (1.0, 0.0, 0.0, 1.0, 1.0): 37.0,\n",
       " (1.0, 0.0, 1.0, 0.0, 0.0): 44.775862068965516,\n",
       " (1.0, 0.0, 1.0, 0.0, 1.0): 34.77777777777778,\n",
       " (1.0, 0.0, 1.0, 1.0, 0.0): 37.25,\n",
       " (1.0, 0.0, 1.0, 1.0, 1.0): 18.96}"
      ]
     },
     "execution_count": 28,
     "metadata": {},
     "output_type": "execute_result"
    }
   ],
   "source": [
    "age_by_group = {group_label: group['Age'].mean() for (group_label, group) in X_train_prepr_grouped}\n",
    "age_by_group"
   ]
  },
  {
   "cell_type": "markdown",
   "metadata": {},
   "source": [
    "Make a column of group-labels for all passangers. "
   ]
  },
  {
   "cell_type": "code",
   "execution_count": 29,
   "metadata": {},
   "outputs": [
    {
     "data": {
      "text/plain": [
       "0    (0.0, 0.0, 1.0, 0.0, 0.0)\n",
       "1    (1.0, 0.0, 1.0, 0.0, 1.0)\n",
       "2    (0.0, 0.0, 0.0, 0.0, 1.0)\n",
       "3    (0.0, 0.0, 0.0, 1.0, 1.0)\n",
       "4    (1.0, 0.0, 1.0, 1.0, 0.0)\n",
       "5    (0.0, 0.0, 0.0, 0.0, 0.0)\n",
       "6    (0.0, 1.0, 1.0, 0.0, 0.0)\n",
       "7    (0.0, 0.0, 1.0, 0.0, 0.0)\n",
       "8    (1.0, 0.0, 1.0, 1.0, 0.0)\n",
       "9    (0.0, 0.0, 0.0, 0.0, 0.0)\n",
       "dtype: object"
      ]
     },
     "execution_count": 29,
     "metadata": {},
     "output_type": "execute_result"
    }
   ],
   "source": [
    "groups = pd.Series([tuple(row) for row in X_train_prepr_df[groupby_columns].values])\n",
    "groups[:10]"
   ]
  },
  {
   "cell_type": "markdown",
   "metadata": {},
   "source": [
    "Translate group-labels to mean-ages using the dictionary."
   ]
  },
  {
   "cell_type": "code",
   "execution_count": 30,
   "metadata": {},
   "outputs": [
    {
     "data": {
      "text/plain": [
       "0    30.159341\n",
       "1    34.777778\n",
       "2    24.777778\n",
       "3    18.923077\n",
       "4    37.250000\n",
       "5    23.500000\n",
       "6    33.965517\n",
       "7    30.159341\n",
       "8    37.250000\n",
       "9    23.500000\n",
       "dtype: float64"
      ]
     },
     "execution_count": 30,
     "metadata": {},
     "output_type": "execute_result"
    }
   ],
   "source": [
    "mean_group_age = groups.apply(lambda group: age_by_group[group])\n",
    "mean_group_age[:10]"
   ]
  },
  {
   "cell_type": "markdown",
   "metadata": {},
   "source": [
    "Make a new *Age_imputed* column, which is equal to *Age* except that where *Age* had NaNs *Age_imputed* has the mean group values."
   ]
  },
  {
   "cell_type": "code",
   "execution_count": 31,
   "metadata": {},
   "outputs": [
    {
     "data": {
      "text/html": [
       "<div>\n",
       "<style scoped>\n",
       "    .dataframe tbody tr th:only-of-type {\n",
       "        vertical-align: middle;\n",
       "    }\n",
       "\n",
       "    .dataframe tbody tr th {\n",
       "        vertical-align: top;\n",
       "    }\n",
       "\n",
       "    .dataframe thead th {\n",
       "        text-align: right;\n",
       "    }\n",
       "</style>\n",
       "<table border=\"1\" class=\"dataframe\">\n",
       "  <thead>\n",
       "    <tr style=\"text-align: right;\">\n",
       "      <th></th>\n",
       "      <th>Class_1</th>\n",
       "      <th>Class_2</th>\n",
       "      <th>Class_3</th>\n",
       "      <th>Sex</th>\n",
       "      <th>SibSp_</th>\n",
       "      <th>ParCh_</th>\n",
       "      <th>Embarked_C</th>\n",
       "      <th>Embarked_Q</th>\n",
       "      <th>Embarked_S</th>\n",
       "      <th>Fare_transformed</th>\n",
       "      <th>Age_imputed</th>\n",
       "    </tr>\n",
       "  </thead>\n",
       "  <tbody>\n",
       "    <tr>\n",
       "      <th>0</th>\n",
       "      <td>0.0</td>\n",
       "      <td>0.0</td>\n",
       "      <td>1.0</td>\n",
       "      <td>1.0</td>\n",
       "      <td>0.0</td>\n",
       "      <td>0.0</td>\n",
       "      <td>0.0</td>\n",
       "      <td>0.0</td>\n",
       "      <td>1.0</td>\n",
       "      <td>0.359602</td>\n",
       "      <td>21.0</td>\n",
       "    </tr>\n",
       "    <tr>\n",
       "      <th>1</th>\n",
       "      <td>1.0</td>\n",
       "      <td>0.0</td>\n",
       "      <td>0.0</td>\n",
       "      <td>1.0</td>\n",
       "      <td>0.0</td>\n",
       "      <td>1.0</td>\n",
       "      <td>1.0</td>\n",
       "      <td>0.0</td>\n",
       "      <td>0.0</td>\n",
       "      <td>0.755891</td>\n",
       "      <td>17.0</td>\n",
       "    </tr>\n",
       "    <tr>\n",
       "      <th>2</th>\n",
       "      <td>0.0</td>\n",
       "      <td>0.0</td>\n",
       "      <td>1.0</td>\n",
       "      <td>0.0</td>\n",
       "      <td>0.0</td>\n",
       "      <td>1.0</td>\n",
       "      <td>0.0</td>\n",
       "      <td>0.0</td>\n",
       "      <td>1.0</td>\n",
       "      <td>0.489446</td>\n",
       "      <td>41.0</td>\n",
       "    </tr>\n",
       "    <tr>\n",
       "      <th>3</th>\n",
       "      <td>0.0</td>\n",
       "      <td>0.0</td>\n",
       "      <td>1.0</td>\n",
       "      <td>0.0</td>\n",
       "      <td>1.0</td>\n",
       "      <td>1.0</td>\n",
       "      <td>0.0</td>\n",
       "      <td>0.0</td>\n",
       "      <td>1.0</td>\n",
       "      <td>0.495832</td>\n",
       "      <td>8.0</td>\n",
       "    </tr>\n",
       "  </tbody>\n",
       "</table>\n",
       "</div>"
      ],
      "text/plain": [
       "   Class_1  Class_2  Class_3  Sex  SibSp_  ParCh_  Embarked_C  Embarked_Q  \\\n",
       "0      0.0      0.0      1.0  1.0     0.0     0.0         0.0         0.0   \n",
       "1      1.0      0.0      0.0  1.0     0.0     1.0         1.0         0.0   \n",
       "2      0.0      0.0      1.0  0.0     0.0     1.0         0.0         0.0   \n",
       "3      0.0      0.0      1.0  0.0     1.0     1.0         0.0         0.0   \n",
       "\n",
       "   Embarked_S  Fare_transformed  Age_imputed  \n",
       "0         1.0          0.359602         21.0  \n",
       "1         0.0          0.755891         17.0  \n",
       "2         1.0          0.489446         41.0  \n",
       "3         1.0          0.495832          8.0  "
      ]
     },
     "execution_count": 31,
     "metadata": {},
     "output_type": "execute_result"
    }
   ],
   "source": [
    "X_train_prepr_df2 = X_train_prepr_df.copy()\n",
    "X_train_prepr_df2.Age[X_train_prepr_df2.Age.isnull()] = mean_group_age[X_train_prepr_df2.Age.isnull()]\n",
    "X_train_prepr_df2.rename(columns = {'Age': 'Age_imputed'}, inplace=True)\n",
    "X_train_prepr_df2[:4]"
   ]
  },
  {
   "cell_type": "code",
   "execution_count": 32,
   "metadata": {},
   "outputs": [
    {
     "data": {
      "text/plain": [
       "0"
      ]
     },
     "execution_count": 32,
     "metadata": {},
     "output_type": "execute_result"
    }
   ],
   "source": [
    "X_train_prepr_df2.Age_imputed.isnull().sum()"
   ]
  },
  {
   "cell_type": "markdown",
   "metadata": {},
   "source": [
    "Ok, say we're happy with this and we actually want to transform *Age* into *Age_imputed* within an *sklearn* pipeline. We gotta create a new transformer. Consider which operations perfomerd above manually go into the *fit* method and which into the *transform* method."
   ]
  },
  {
   "cell_type": "code",
   "execution_count": 33,
   "metadata": {},
   "outputs": [],
   "source": [
    "class AgeImputer(BaseEstimator, TransformerMixin):\n",
    "    def __init__(self, groupby_columns):\n",
    "        self.groupby_columns = groupby_columns\n",
    "        return None\n",
    "    \n",
    "    def fit(self, X, y=None):\n",
    "        X_grouped = X[X.Age.notnull()].groupby(self.groupby_columns)\n",
    "        self.age_by_group = {group_label: group['Age'].mean() for (group_label, group) in X_grouped}\n",
    "        return self\n",
    "        \n",
    "    def transform(self, X):\n",
    "        groups = pd.Series([tuple(row) for row in X[self.groupby_columns].values])\n",
    "        mean_group_age = groups.apply(lambda group: self.age_by_group[group])\n",
    "        X_ = X.copy()\n",
    "        X_.Age[X_.Age.isnull()] = mean_group_age[X_.Age.isnull()]\n",
    "        X_.rename(columns = {'Age': 'Age_imputed'}, inplace=True)\n",
    "        return X_"
   ]
  },
  {
   "cell_type": "code",
   "execution_count": 34,
   "metadata": {},
   "outputs": [
    {
     "data": {
      "text/html": [
       "<div>\n",
       "<style scoped>\n",
       "    .dataframe tbody tr th:only-of-type {\n",
       "        vertical-align: middle;\n",
       "    }\n",
       "\n",
       "    .dataframe tbody tr th {\n",
       "        vertical-align: top;\n",
       "    }\n",
       "\n",
       "    .dataframe thead th {\n",
       "        text-align: right;\n",
       "    }\n",
       "</style>\n",
       "<table border=\"1\" class=\"dataframe\">\n",
       "  <thead>\n",
       "    <tr style=\"text-align: right;\">\n",
       "      <th></th>\n",
       "      <th>Class_1</th>\n",
       "      <th>Class_2</th>\n",
       "      <th>Class_3</th>\n",
       "      <th>Sex</th>\n",
       "      <th>SibSp_</th>\n",
       "      <th>ParCh_</th>\n",
       "      <th>Embarked_C</th>\n",
       "      <th>Embarked_Q</th>\n",
       "      <th>Embarked_S</th>\n",
       "      <th>Fare_transformed</th>\n",
       "      <th>Age_imputed</th>\n",
       "    </tr>\n",
       "  </thead>\n",
       "  <tbody>\n",
       "    <tr>\n",
       "      <th>0</th>\n",
       "      <td>0.0</td>\n",
       "      <td>0.0</td>\n",
       "      <td>1.0</td>\n",
       "      <td>1.0</td>\n",
       "      <td>0.0</td>\n",
       "      <td>0.0</td>\n",
       "      <td>0.0</td>\n",
       "      <td>0.0</td>\n",
       "      <td>1.0</td>\n",
       "      <td>0.359602</td>\n",
       "      <td>21.0</td>\n",
       "    </tr>\n",
       "    <tr>\n",
       "      <th>1</th>\n",
       "      <td>1.0</td>\n",
       "      <td>0.0</td>\n",
       "      <td>0.0</td>\n",
       "      <td>1.0</td>\n",
       "      <td>0.0</td>\n",
       "      <td>1.0</td>\n",
       "      <td>1.0</td>\n",
       "      <td>0.0</td>\n",
       "      <td>0.0</td>\n",
       "      <td>0.755891</td>\n",
       "      <td>17.0</td>\n",
       "    </tr>\n",
       "    <tr>\n",
       "      <th>2</th>\n",
       "      <td>0.0</td>\n",
       "      <td>0.0</td>\n",
       "      <td>1.0</td>\n",
       "      <td>0.0</td>\n",
       "      <td>0.0</td>\n",
       "      <td>1.0</td>\n",
       "      <td>0.0</td>\n",
       "      <td>0.0</td>\n",
       "      <td>1.0</td>\n",
       "      <td>0.489446</td>\n",
       "      <td>41.0</td>\n",
       "    </tr>\n",
       "    <tr>\n",
       "      <th>3</th>\n",
       "      <td>0.0</td>\n",
       "      <td>0.0</td>\n",
       "      <td>1.0</td>\n",
       "      <td>0.0</td>\n",
       "      <td>1.0</td>\n",
       "      <td>1.0</td>\n",
       "      <td>0.0</td>\n",
       "      <td>0.0</td>\n",
       "      <td>1.0</td>\n",
       "      <td>0.495832</td>\n",
       "      <td>8.0</td>\n",
       "    </tr>\n",
       "  </tbody>\n",
       "</table>\n",
       "</div>"
      ],
      "text/plain": [
       "   Class_1  Class_2  Class_3  Sex  SibSp_  ParCh_  Embarked_C  Embarked_Q  \\\n",
       "0      0.0      0.0      1.0  1.0     0.0     0.0         0.0         0.0   \n",
       "1      1.0      0.0      0.0  1.0     0.0     1.0         1.0         0.0   \n",
       "2      0.0      0.0      1.0  0.0     0.0     1.0         0.0         0.0   \n",
       "3      0.0      0.0      1.0  0.0     1.0     1.0         0.0         0.0   \n",
       "\n",
       "   Embarked_S  Fare_transformed  Age_imputed  \n",
       "0         1.0          0.359602         21.0  \n",
       "1         0.0          0.755891         17.0  \n",
       "2         1.0          0.489446         41.0  \n",
       "3         1.0          0.495832          8.0  "
      ]
     },
     "execution_count": 34,
     "metadata": {},
     "output_type": "execute_result"
    }
   ],
   "source": [
    "X_train_prepr_df2 = AgeImputer(groupby_columns).fit_transform(X_train_prepr_df)\n",
    "X_train_prepr_df2[:4]"
   ]
  },
  {
   "cell_type": "markdown",
   "metadata": {},
   "source": [
    "So now our whole pipeline is the following"
   ]
  },
  {
   "cell_type": "code",
   "execution_count": 35,
   "metadata": {},
   "outputs": [],
   "source": [
    "age_imputer = make_pipeline(Polish(columns_prepr), AgeImputer(groupby_columns))\n",
    "\n",
    "classifier = Pipeline(steps = [\n",
    "    ('preproc', preprocessing_pipe),\n",
    "    ('age', age_imputer),\n",
    "    ('clf', LogisticRegression(solver='saga', max_iter=1e5))\n",
    "])"
   ]
  },
  {
   "cell_type": "markdown",
   "metadata": {},
   "source": [
    "Again, we can include the arguments of the new transformer in a grid-search."
   ]
  },
  {
   "cell_type": "code",
   "execution_count": 36,
   "metadata": {},
   "outputs": [
    {
     "data": {
      "text/plain": [
       "0.8094170403587444"
      ]
     },
     "execution_count": 36,
     "metadata": {},
     "output_type": "execute_result"
    }
   ],
   "source": [
    "param_grid = {}\n",
    "param_grid['preproc__fare_transform__minmaxscaler__feature_range'] = [(0.4, 0.6), (0, 1), (-2, 3)]\n",
    "param_grid['age__ageimputer__groupby_columns'] = [['Class_1', 'Class_2', 'Sex', 'SibSp_', 'ParCh_'], ['SibSp_', 'ParCh_']]\n",
    "param_grid['clf__C'] = [0.01, 0.1, 1, 10]\n",
    "\n",
    "classifier_gridcv = GridSearchCV(classifier, param_grid, cv=4, refit=True, return_train_score=True, n_jobs=-1, iid=False)\n",
    "classifier_gridcv.fit(X_train, y_train)\n",
    "classifier_gridcv.best_estimator_.score(X_val, y_val)"
   ]
  },
  {
   "cell_type": "markdown",
   "metadata": {},
   "source": [
    "**Exercise**"
   ]
  },
  {
   "cell_type": "markdown",
   "metadata": {},
   "source": [
    "Make a new binary features which encodes wheter the *Cabin* values was a NaN or not. Include it in our *classifier* object and run the fitting and scoring anew."
   ]
  },
  {
   "cell_type": "markdown",
   "metadata": {},
   "source": [
    "---\n",
    "Proposed solution below\n",
    "\n",
    "---\n",
    "---\n",
    "---\n",
    "---\n",
    "---\n",
    "---\n",
    "---\n",
    "---\n",
    "---\n",
    "---\n",
    "---\n",
    "---\n",
    "---\n",
    "---\n",
    "---\n",
    "---\n",
    "---"
   ]
  },
  {
   "cell_type": "code",
   "execution_count": 37,
   "metadata": {},
   "outputs": [],
   "source": [
    "class IsNullBinarizer(BaseEstimator, TransformerMixin):\n",
    "    def __init__(self):\n",
    "        return None\n",
    "    \n",
    "    def fit(self, X, y=None):\n",
    "        return self\n",
    "        \n",
    "    def transform(self, X):\n",
    "        X = X.isnull().astype('int')\n",
    "        return X"
   ]
  },
  {
   "cell_type": "code",
   "execution_count": 40,
   "metadata": {},
   "outputs": [
    {
     "data": {
      "text/plain": [
       "0.8183856502242153"
      ]
     },
     "execution_count": 40,
     "metadata": {},
     "output_type": "execute_result"
    }
   ],
   "source": [
    "preprocessors = [\n",
    "    ('pclass_ohe', OneHotEncoder(handle_unknown = 'ignore'), ['Pclass']),\n",
    "    ('sex_encode', OrdinalEncoder(categories=[['female', 'male']]), ['Sex']),\n",
    "    ('bin', Binarizer(threshold = 0), ['SibSp', 'Parch']),\n",
    "    ('embarked_ohe', embarked_transformer, ['Embarked']),\n",
    "    ('fare_transform', fare_transformer, ['Fare']),\n",
    "    ('id', Identity(), ['Age']),\n",
    "    ('cabin_unknown', IsNullBinarizer(), ['Cabin'])\n",
    "]\n",
    "\n",
    "preprocessing_pipe = ColumnTransformer(preprocessors)\n",
    "preprocessing_pipe.fit(X_train, y_train)\n",
    "\n",
    "columns_prepr \\\n",
    "= [\"Class_\" + str(class_) for class_ in preprocessing_pipe.named_transformers_['pclass_ohe'].categories_[0]] \\\n",
    "+ ['Sex'] \\\n",
    "+ ['SibSp_', 'ParCh_'] \\\n",
    "+ [\"Embarked_\" + str(city) for city in preprocessing_pipe.named_transformers_['embarked_ohe'].named_steps['onehotencoder'].categories_[0]] \\\n",
    "+ ['Fare_transformed'] \\\n",
    "+ ['Age'] \\\n",
    "+ ['Cabin_unknown']\n",
    "\n",
    "age_imputer = make_pipeline(Polish(columns_prepr), AgeImputer(groupby_columns))\n",
    "\n",
    "classifier = Pipeline(steps = [\n",
    "    ('preproc', preprocessing_pipe),\n",
    "    ('age', age_imputer),\n",
    "    ('clf', LogisticRegression(solver='saga', max_iter=1e5))\n",
    "])\n",
    "\n",
    "param_grid = {}\n",
    "param_grid['preproc__fare_transform__minmaxscaler__feature_range'] = [(0.4, 0.6), (0, 1), (-2, 3)]\n",
    "param_grid['age__ageimputer__groupby_columns'] = [['Class_1', 'Class_2', 'Sex', 'SibSp_', 'ParCh_'], ['SibSp_', 'ParCh_']]\n",
    "param_grid['clf__C'] = [0.01, 0.1, 1, 10]\n",
    "\n",
    "classifier_gridcv = GridSearchCV(classifier, param_grid, cv=4, refit=True, return_train_score=True, n_jobs=-1, iid=False)\n",
    "classifier_gridcv.fit(X_train, y_train)\n",
    "classifier_gridcv.best_estimator_.score(X_val, y_val)"
   ]
  }
 ],
 "metadata": {
  "kernelspec": {
   "display_name": "Python 3",
   "language": "python",
   "name": "python3"
  },
  "language_info": {
   "codemirror_mode": {
    "name": "ipython",
    "version": 3
   },
   "file_extension": ".py",
   "mimetype": "text/x-python",
   "name": "python",
   "nbconvert_exporter": "python",
   "pygments_lexer": "ipython3",
   "version": "3.6.8"
  }
 },
 "nbformat": 4,
 "nbformat_minor": 2
}
